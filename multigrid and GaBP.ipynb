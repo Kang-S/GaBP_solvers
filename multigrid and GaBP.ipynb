{
 "cells": [
  {
   "cell_type": "code",
   "execution_count": 1,
   "metadata": {
    "collapsed": true
   },
   "outputs": [],
   "source": [
    "import numpy as np\n",
    "import matplotlib.pyplot as plt\n",
    "\n",
    "%matplotlib inline"
   ]
  },
  {
   "cell_type": "markdown",
   "metadata": {},
   "source": [
    "Here we incorporate GaBP into the framework of geometric multigrid."
   ]
  },
  {
   "cell_type": "code",
   "execution_count": 2,
   "metadata": {
    "collapsed": true
   },
   "outputs": [],
   "source": [
    "def full_weight_restriction(u):\n",
    "    K = int(np.sqrt(len(u)))\n",
    "    M = int((K-1)/2)\n",
    "    v = np.zeros((M, M))\n",
    "    w = u.reshape((K, K))\n",
    "    v += w[1::2, 1::2]/4 + (w[::2, 1::2][:-1, :] + w[2::2, 1::2])/8\n",
    "    v += (w[1::2, ::2][:, :-1] + w[1::2, 2::2])/8\n",
    "    v += (w[::2, ::2][:-1, :-1] + w[2::2, 2::2] + w[::2, 2::2][:-1, :] + w[2::2, ::2][:, :-1])/16\n",
    "    v = v.reshape(-1,)\n",
    "    return v"
   ]
  },
  {
   "cell_type": "code",
   "execution_count": 3,
   "metadata": {
    "collapsed": true
   },
   "outputs": [],
   "source": [
    "H = []\n",
    "E = []\n",
    "for J in [3, 4, 5, 6, 7]:\n",
    "    N = 2**J - 1\n",
    "    h = 1/(N+1)\n",
    "    x = np.linspace(h, 1-h, N)\n",
    "    X, Y = np.meshgrid(x, x, indexing='ij')\n",
    "\n",
    "    u =  (np.sin(X*np.pi)*np.sin(Y*np.pi)).reshape(-1,)\n",
    "    vv = u.reshape((N, N))[1::2, 1::2]\n",
    "    vv = vv.reshape(-1,)\n",
    "    v = full_weight_restriction(u)\n",
    "    e = np.linalg.norm(vv - v, ord=np.inf)\n",
    "    H.append(h)\n",
    "    E.append(e)"
   ]
  },
  {
   "cell_type": "code",
   "execution_count": 4,
   "metadata": {},
   "outputs": [
    {
     "data": {
      "image/png": "[encoded data removed]",
      "text/plain": [
       "<matplotlib.figure.Figure at 0x10ec628d0>"
      ]
     },
     "metadata": {},
     "output_type": "display_data"
    }
   ],
   "source": [
    "plt.plot(np.log(H), np.log(E))\n",
    "plt.xlabel('spacing')\n",
    "plt.ylabel('error');"
   ]
  },
  {
   "cell_type": "code",
   "execution_count": 5,
   "metadata": {
    "collapsed": true
   },
   "outputs": [],
   "source": [
    "def full_weight_prolongation(u):\n",
    "    K = int(np.sqrt(len(u)))\n",
    "    v = np.zeros((2*K+1, 2*K+1))\n",
    "    v[1::2, 1::2] = u.reshape((K, K))\n",
    "    v[1::2, ::2][:, :-1] += v[1::2, 1::2]/2\n",
    "    v[1::2, 2::2] += v[1::2, 1::2]/2\n",
    "    v[::2, :][:-1, :] += v[1::2, :]/2\n",
    "    v[2::2, :] += v[1::2, :]/2\n",
    "    v = v.reshape(-1,)\n",
    "    return v"
   ]
  },
  {
   "cell_type": "code",
   "execution_count": 6,
   "metadata": {
    "collapsed": true
   },
   "outputs": [],
   "source": [
    "H = []\n",
    "E = []\n",
    "for J in [3, 4, 5, 6, 7]:\n",
    "    N = 2**J - 1\n",
    "    h = 1/(N+1)\n",
    "    H.append(h)\n",
    "    \n",
    "    x = np.linspace(h, 1-h, N)\n",
    "    X, Y = np.meshgrid(x, x, indexing='ij')\n",
    "    u = (np.sin(X*np.pi)*np.sin(2*Y*np.pi)).reshape(-1,)\n",
    "    v = full_weight_prolongation(u)\n",
    "    \n",
    "    N = 2**(J+1) - 1\n",
    "    h = 1/(N+1)\n",
    "    \n",
    "    x = np.linspace(h, 1-h, N)\n",
    "    X, Y = np.meshgrid(x, x, indexing='ij')\n",
    "    vv = (np.sin(X*np.pi)*np.sin(2*Y*np.pi)).reshape(-1,)\n",
    "\n",
    "    e = np.linalg.norm(vv - v, ord=np.inf)\n",
    "    E.append(e)"
   ]
  },
  {
   "cell_type": "code",
   "execution_count": 7,
   "metadata": {},
   "outputs": [
    {
     "data": {
      "image/png": "[encoded data removed]",
      "text/plain": [
       "<matplotlib.figure.Figure at 0x10ec62860>"
      ]
     },
     "metadata": {},
     "output_type": "display_data"
    }
   ],
   "source": [
    "plt.plot(np.log(H), np.log(E))\n",
    "plt.xlabel('spacing')\n",
    "plt.ylabel('error');"
   ]
  },
  {
   "cell_type": "code",
   "execution_count": 8,
   "metadata": {
    "collapsed": true
   },
   "outputs": [],
   "source": [
    "from scipy.linalg import solve_triangular\n",
    "\n",
    "def GS_smoother(A, b, x_0, N):\n",
    "    L_A = np.tril(A)\n",
    "    r_A = A - L_A\n",
    "    x = np.copy(x_0)\n",
    "    for _ in range(N):\n",
    "        x = solve_triangular(L_A, b - r_A @ x, lower=True)\n",
    "    return x"
   ]
  },
  {
   "cell_type": "code",
   "execution_count": 9,
   "metadata": {
    "collapsed": true
   },
   "outputs": [],
   "source": [
    "def GaBP_smoother(A, d, x_0, N, type='Sequential'):\n",
    "    v_out = []\n",
    "    v_in = []\n",
    "    for i in range(len(A[0, :])):\n",
    "        v_out.append(np.where(A[i] != 0)[0])\n",
    "        v_in.append(np.where(A[:, i] != 0)[0])\n",
    "\n",
    "        v_out[i] = v_out[i][v_out[i] != i]\n",
    "        v_in[i] = v_in[i][v_in[i] != i]\n",
    "\n",
    "    L, L_new, mu, mu_new = np.zeros_like(A), np.zeros_like(A), np.zeros_like(A), np.zeros_like(A)\n",
    "    x = np.zeros_like(d)\n",
    "    b = d - A@x_0\n",
    "\n",
    "    for _ in range(N):\n",
    "        for j in range(len(A[0,:])):\n",
    "            m = b[j] + np.sum(L[v_out[j], j]*mu[v_out[j], j])\n",
    "            Sigma = A[j, j] + np.sum(A[v_out[j], j]*L[v_out[j], j])\n",
    "            x[j] = m/Sigma\n",
    "            if type == 'Sequential':\n",
    "                mu[j, v_in[j]] = m - L[v_in[j], j]*mu[v_in[j], j]\n",
    "                L[j, v_in[j]] = -A[v_in[j], j]/(Sigma - L[v_in[j], j]*A[v_in[j], j])\n",
    "            if type == 'Parallel':\n",
    "                mu_new[j, v_in[j]] = m - L[v_in[j], j]*mu[v_in[j], j]\n",
    "                L_new[j, v_in[j]] = -A[v_in[j], j]/(Sigma - L[v_in[j], j]*A[v_in[j], j])\n",
    "        if type == 'Parallel':\n",
    "            mu, L = np.copy(mu_new), np.copy(L_new)\n",
    "    return x_0 + x"
   ]
  },
  {
   "cell_type": "code",
   "execution_count": 10,
   "metadata": {
    "collapsed": true
   },
   "outputs": [],
   "source": [
    "def exact_marginalization(A, b):\n",
    "    inverse = np.linalg.inv(A)\n",
    "    variances = np.diag(inverse)\n",
    "    means = (inverse @ b)\n",
    "    return variances, means\n",
    "\n",
    "def stripes_GaBP_smoother(A, d, x_0, N_it):\n",
    "    b = d - A@x_0\n",
    "    N = len(b)\n",
    "    me, var = np.zeros_like(b), np.zeros_like(b)\n",
    "    M = int(np.sqrt(N))\n",
    "    horizontal_regions = np.arange(N).reshape((M,-1))\n",
    "    m_h = np.zeros((M, M, 2))# [from which horizontal, to which vertical, mean/variance]\n",
    "    vertical_regions = np.arange(N).reshape((M,-1)).T\n",
    "    m_v = np.zeros((M, M, 2))# [from which vertical, to which horizontal, mean/variance]\n",
    "\n",
    "    A_horizontal = np.zeros((M, M, M))\n",
    "    b_horizontal = np.zeros((M, M))\n",
    "    A_vertical = np.zeros((M, M, M))\n",
    "    b_vertical = np.zeros((M, M))\n",
    "\n",
    "    for i in range(M):\n",
    "        x, y = np.meshgrid(horizontal_regions[i], horizontal_regions[i], indexing='ij')\n",
    "        w, z = np.meshgrid(vertical_regions[i], vertical_regions[i], indexing='ij')\n",
    "        A_horizontal[i] = A[x, y]\n",
    "        A_vertical[i] = A[w, z]\n",
    "        b_horizontal[i] = b[horizontal_regions[i]]\n",
    "        b_vertical[i] = b[vertical_regions[i]]\n",
    "\n",
    "    me = np.zeros_like(b)\n",
    "    for _ in range(N_it):\n",
    "\n",
    "        # horizontal update\n",
    "        for i in range(M):\n",
    "            delta_A = np.diag(m_v[:, i, 1])\n",
    "            delta_b = m_v[:, i, 0]*m_v[:, i, 1]\n",
    "            variances, means = exact_marginalization(A_horizontal[i]+delta_A, b_horizontal[i]+delta_b)\n",
    "            m_h[i, :, 1] = 1/variances - (np.diag(A_horizontal[i]) + m_v[:, i, 1])\n",
    "            m_h[i, :, 0] = (means/variances - (b_horizontal[i] + delta_b))/m_h[i, :, 1]\n",
    "\n",
    "        # vertical update\n",
    "        for i in range(M):\n",
    "            delta_A = np.diag(m_h[:, i, 1])\n",
    "            delta_b = m_h[:, i, 0]*m_h[:, i, 1]\n",
    "            variances, means = exact_marginalization(A_vertical[i]+delta_A, b_vertical[i]+delta_b)\n",
    "            m_v[i, :, 1] = 1/variances - (np.diag(A_vertical[i]) + m_h[:, i, 1])\n",
    "            m_v[i, :, 0] = (means/variances - (b_vertical[i] + delta_b))/m_v[i, :, 1]\n",
    "\n",
    "            ##\n",
    "            me[vertical_regions[i]] = means\n",
    "            var[vertical_regions[i]] = variances\n",
    "            ##\n",
    "\n",
    "    return x_0 + me"
   ]
  },
  {
   "cell_type": "markdown",
   "metadata": {},
   "source": [
    "\\begin{equation}\n",
    "\\begin{split}\n",
    "    Ax^{n} &= b \\\\\n",
    "    A \\left(\\overline{x} - x^{n}\\right) &= b - A x^{n} = d^{n}\\\\\n",
    "    e^{n} &= A^{-1} d^{n}\\\\\n",
    "    \\overline{x} &= x^{n} + e^{n}\n",
    "\\end{split}\n",
    "\\end{equation}"
   ]
  },
  {
   "cell_type": "code",
   "execution_count": 11,
   "metadata": {
    "collapsed": true
   },
   "outputs": [],
   "source": [
    "def multigrid_V_sweep(A, b, x_0, smoother, N_pre, N_post):\n",
    "    if len(A) == 1:\n",
    "        return x_0 + np.linalg.inv(A[0]) @ b\n",
    "    # pre smoothing\n",
    "    x_0 = smoother(A[0], b, x_0, N_pre)\n",
    "    # restriction\n",
    "    y = full_weight_restriction(b - A[0]@x_0)\n",
    "    # coarse solution\n",
    "    e = multigrid_V_sweep(A[1:], y, 0*y, smoother, N_pre, N_post)\n",
    "    # prolongation\n",
    "    x_0 += full_weight_prolongation(e)\n",
    "    # post smoothing\n",
    "    x_0 = smoother(A[0], b, x_0, N_post)\n",
    "    return x_0"
   ]
  },
  {
   "cell_type": "code",
   "execution_count": 12,
   "metadata": {
    "collapsed": true
   },
   "outputs": [],
   "source": [
    "import equations\n",
    "from scipy.sparse import coo_matrix\n",
    "import bvp"
   ]
  },
  {
   "cell_type": "code",
   "execution_count": 13,
   "metadata": {
    "collapsed": true
   },
   "outputs": [],
   "source": [
    "def construct_multigrid_hierarchy(equation, J, l):\n",
    "    a, alpha, b, beta, q, f_rhs, up, left, down, right, exact = equation(1, 1)\n",
    "    AA = []\n",
    "    \n",
    "    n = 2**J - 1\n",
    "    h = 1/(n+1)\n",
    "    x, y = np.linspace(h, 1-h, n), np.linspace(h, 1-h, n)\n",
    "    X, Y = np.meshgrid(x, y, indexing='ij')\n",
    "    rhs = bvp.mod_rhs(a, alpha, b, beta, q, f_rhs, up, left, down, right, 1, 1, n, n)\n",
    "\n",
    "    for j in range(J, J-l, -1):\n",
    "        n = 2**j - 1\n",
    "        row, col, values = bvp.d2A(a, alpha, b, beta, q, 1, 1, n, n)\n",
    "        A = coo_matrix((values, (row, col))).toarray()\n",
    "        AA.append(A)\n",
    "    return AA, rhs"
   ]
  },
  {
   "cell_type": "markdown",
   "metadata": {},
   "source": [
    "Below you can see results for Laplace equation."
   ]
  },
  {
   "cell_type": "code",
   "execution_count": 14,
   "metadata": {
    "collapsed": true
   },
   "outputs": [],
   "source": [
    "A, rhs = construct_multigrid_hierarchy(equations.laplacian, 6, 3)"
   ]
  },
  {
   "cell_type": "code",
   "execution_count": 15,
   "metadata": {},
   "outputs": [
    {
     "name": "stdout",
     "output_type": "stream",
     "text": [
      "86.4312259429\n",
      "2.59245487447\n",
      "0.0995458802915\n",
      "0.00448375668898\n",
      "0.000208690920459\n",
      "9.8830711579e-06\n",
      "4.71470826824e-07\n"
     ]
    }
   ],
   "source": [
    "x_0 = np.zeros_like(rhs)\n",
    "error = 1\n",
    "tol = 1e-6\n",
    "E = []\n",
    "while error > tol:\n",
    "    x_0 = multigrid_V_sweep(A, rhs, x_0, GS_smoother, 3, 3)\n",
    "    error = np.linalg.norm(A[0]@x_0 - rhs, ord=np.inf)\n",
    "    print(error)\n",
    "    E.append(error)"
   ]
  },
  {
   "cell_type": "code",
   "execution_count": 16,
   "metadata": {},
   "outputs": [
    {
     "data": {
      "text/plain": [
       "[<matplotlib.lines.Line2D at 0x61cdf4f98>]"
      ]
     },
     "execution_count": 16,
     "metadata": {},
     "output_type": "execute_result"
    },
    {
     "data": {
      "image/png": "[encoded data removed]",
      "text/plain": [
       "<matplotlib.figure.Figure at 0x1130b13c8>"
      ]
     },
     "metadata": {},
     "output_type": "display_data"
    }
   ],
   "source": [
    "plt.plot(np.log10(E))"
   ]
  },
  {
   "cell_type": "code",
   "execution_count": 17,
   "metadata": {},
   "outputs": [
    {
     "name": "stdout",
     "output_type": "stream",
     "text": [
      "1236.06659832\n",
      "167.385720991\n",
      "38.7159531013\n",
      "8.00803375525\n",
      "1.5321986013\n",
      "0.337057026365\n",
      "0.0742990552114\n",
      "0.0152356199318\n",
      "0.0034095677704\n",
      "0.000866622005793\n",
      "0.000207140009922\n",
      "4.08839209562e-05\n",
      "9.84666360893e-06\n",
      "2.25869380976e-06\n",
      "4.72828903142e-07\n"
     ]
    }
   ],
   "source": [
    "x_0 = np.zeros_like(rhs)\n",
    "error = 1\n",
    "tol = 1e-6\n",
    "E = []\n",
    "smoother = lambda A, d, x_0, N: GaBP_smoother(A, d, x_0, N, type='Sequential')\n",
    "while error > tol:\n",
    "    x_0 = multigrid_V_sweep(A, rhs, x_0, smoother, 1, 1)\n",
    "    error = np.linalg.norm(A[0]@x_0 - rhs, ord=np.inf)\n",
    "    print(error)\n",
    "    E.append(error)"
   ]
  },
  {
   "cell_type": "code",
   "execution_count": 18,
   "metadata": {},
   "outputs": [
    {
     "data": {
      "text/plain": [
       "[<matplotlib.lines.Line2D at 0x61d1cde80>]"
      ]
     },
     "execution_count": 18,
     "metadata": {},
     "output_type": "execute_result"
    },
    {
     "data": {
      "image/png": "[encoded data removed]",
      "text/plain": [
       "<matplotlib.figure.Figure at 0x61ce197f0>"
      ]
     },
     "metadata": {},
     "output_type": "display_data"
    }
   ],
   "source": [
    "plt.plot(np.log10(E))"
   ]
  },
  {
   "cell_type": "markdown",
   "metadata": {},
   "source": [
    "In the case of large anisotropy, GaBP is more robust."
   ]
  },
  {
   "cell_type": "code",
   "execution_count": 19,
   "metadata": {
    "collapsed": true
   },
   "outputs": [],
   "source": [
    "equation = lambda L_x, L_y: equations.epsilon_laplacian(L_x, L_y, 0.001)\n",
    "A, rhs = construct_multigrid_hierarchy(equation, 6, 3)"
   ]
  },
  {
   "cell_type": "code",
   "execution_count": 20,
   "metadata": {
    "scrolled": true
   },
   "outputs": [
    {
     "name": "stdout",
     "output_type": "stream",
     "text": [
      "133.560327517\n",
      "55.8494867964\n",
      "36.2018324787\n",
      "27.1860462473\n",
      "21.9332045607\n",
      "18.3222979048\n",
      "15.7629250577\n",
      "13.8091498144\n",
      "12.1987018111\n",
      "10.9108005485\n",
      "9.82724167187\n",
      "8.9020245458\n",
      "8.08493654701\n",
      "7.39152218788\n",
      "6.76820371372\n",
      "6.21390539715\n",
      "5.72347115114\n",
      "5.27712765066\n",
      "4.87040524257\n",
      "4.49925974631\n",
      "4.16401073666\n",
      "3.85920737891\n",
      "3.57882275039\n",
      "3.32067580601\n",
      "3.08279811516\n",
      "2.86341549833\n",
      "2.66092912001\n",
      "2.47389729351\n",
      "2.30168361481\n",
      "2.14324647333\n",
      "1.9964152549\n",
      "1.86028105807\n",
      "1.73401253802\n",
      "1.61684868484\n",
      "1.50809227263\n",
      "1.4071039442\n",
      "1.31329688418\n",
      "1.22613202862\n",
      "1.14511375885\n",
      "1.06978602977\n",
      "0.999728886167\n",
      "0.934555325009\n",
      "0.873908465634\n",
      "0.817458994176\n",
      "0.764902852112\n",
      "0.715959142487\n",
      "0.670645782584\n",
      "0.628436201394\n",
      "0.589083079507\n",
      "0.552384686389\n",
      "0.518154046983\n",
      "0.486217814395\n",
      "0.456415234326\n",
      "0.428597193115\n",
      "0.402625342086\n",
      "0.378371291521\n",
      "0.355715868293\n",
      "0.334548431704\n",
      "0.314766242619\n",
      "0.296273881428\n",
      "0.278982710782\n",
      "0.262889790154\n",
      "0.247900900156\n",
      "0.233868308302\n",
      "0.220727203226\n",
      "0.208417310335\n",
      "0.196882567071\n",
      "0.186070821988\n",
      "0.175933555818\n",
      "0.166425622885\n",
      "0.157505011326\n",
      "0.149132620707\n",
      "0.141314791238\n",
      "0.134026072012\n",
      "0.127174206438\n",
      "0.120730599316\n",
      "0.114668612917\n",
      "0.108963429868\n",
      "0.103591925798\n",
      "0.0985325510138\n",
      "0.0937982969903\n",
      "0.0893734685353\n",
      "0.0851975455214\n",
      "0.0812548102285\n",
      "0.077530600302\n",
      "0.0740112357641\n",
      "0.070683951139\n",
      "0.0675655302515\n",
      "0.064639364928\n",
      "0.0618666534064\n",
      "0.0592381135315\n",
      "0.0567450724617\n",
      "0.0543794250324\n",
      "0.0521687481605\n",
      "0.05007506575\n",
      "0.048083522749\n",
      "0.04618823807\n",
      "0.044383706412\n",
      "0.0426746043204\n",
      "0.0410686946816\n",
      "0.0395358257338\n",
      "0.0380720117542\n",
      "0.0366735138298\n",
      "0.0353478449823\n",
      "0.0340947296589\n",
      "0.0328945409859\n",
      "0.0317445709527\n",
      "0.0306422724942\n",
      "0.0295912828802\n",
      "0.0285966321827\n",
      "0.0276409563325\n",
      "0.0267224053631\n",
      "0.0258392335283\n",
      "0.0249976977628\n",
      "0.0241949060705\n",
      "0.0234213762882\n",
      "0.0226758314946\n",
      "0.0219570619265\n",
      "0.0212646077077\n",
      "0.0206069561449\n",
      "0.0199717350871\n",
      "0.0193580499615\n",
      "0.0187650493458\n",
      "0.0181919225113\n",
      "0.0176425118185\n",
      "0.0171142022783\n",
      "0.0166028239539\n",
      "0.0161077648082\n",
      "0.0156284391387\n",
      "0.0151642862131\n",
      "0.0147147689857\n",
      "0.0142825005518\n",
      "0.0138653589207\n",
      "0.0134609113949\n",
      "0.0130687404741\n",
      "0.0126884443332\n",
      "0.012319636116\n",
      "0.01196194327\n",
      "0.0116150069151\n",
      "0.0112802554758\n",
      "0.0109564808032\n",
      "0.0106421960927\n",
      "0.010337112352\n",
      "0.0100409500423\n",
      "0.00975343872832\n",
      "0.00947431674396\n",
      "0.00920333087282\n",
      "0.00894023604175\n",
      "0.00868479502802\n",
      "0.00843677817906\n",
      "0.00819596314358\n",
      "0.00796213461388\n",
      "0.00773599916893\n",
      "0.00751658919055\n",
      "0.00730345344429\n",
      "0.00709641075258\n",
      "0.00689528523562\n",
      "0.00669990615343\n",
      "0.00651010775312\n",
      "0.00632572912054\n",
      "0.00614661403676\n",
      "0.00597261083865\n",
      "0.00580357228408\n",
      "0.0056393554205\n",
      "0.0054798214585\n",
      "0.0053248356484\n",
      "0.00517426716097\n",
      "0.00502798897148\n",
      "0.00488587774785\n",
      "0.00474781374115\n",
      "0.00461368068065\n",
      "0.00448336567101\n",
      "0.0043567590929\n",
      "0.0042337545067\n",
      "0.00411424855943\n",
      "0.00399814089326\n",
      "0.0038853787314\n",
      "0.00377597065027\n",
      "0.00366965790419\n",
      "0.00356635274658\n",
      "0.00346596990493\n",
      "0.00336842651153\n",
      "0.00327364203803\n",
      "0.00318153823126\n",
      "0.00309203904941\n",
      "0.00300507060137\n",
      "0.00292056108707\n",
      "0.0028384407393\n",
      "0.00275864176671\n",
      "0.00268109829948\n",
      "0.002605746335\n",
      "0.00253252368576\n",
      "0.00246136992881\n",
      "0.00239222635627\n",
      "0.00232503592655\n",
      "0.00225974321824\n",
      "0.00219629438412\n",
      "0.00213463710701\n",
      "0.00207472055648\n",
      "0.00201649534721\n",
      "0.00195991349778\n",
      "0.00190492839055\n",
      "0.00185149473474\n",
      "0.00179956852684\n",
      "0.0017491070157\n",
      "0.00170006866619\n",
      "0.00165241312469\n",
      "0.0016061011862\n",
      "0.00156109476108\n",
      "0.00151735684368\n",
      "0.00147485148158\n",
      "0.00143354374517\n",
      "0.00139339969927\n",
      "0.00135438637414\n",
      "0.00131647173884\n",
      "0.00127962467319\n",
      "0.00124381494321\n",
      "0.00120901317529\n",
      "0.00117519083141\n",
      "0.00114232018551\n",
      "0.00111037430098\n",
      "0.00107932700677\n",
      "0.00104915287669\n",
      "0.00101982720809\n",
      "0.000991326000634\n",
      "0.00096362593671\n",
      "0.000936704361938\n",
      "0.000910539265864\n",
      "0.000885109263994\n",
      "0.000860393579832\n",
      "0.000836372027256\n",
      "0.000813024994376\n",
      "0.000790333426029\n",
      "0.000768278809109\n",
      "0.00074684315597\n",
      "0.000726008990217\n",
      "0.000705759331812\n",
      "0.000686077683316\n",
      "0.000666948014999\n",
      "0.000648354752674\n",
      "0.000630282764395\n",
      "0.000612717347498\n",
      "0.000595644216663\n",
      "0.000579049491525\n",
      "0.000562919686094\n",
      "0.000547241696599\n",
      "0.000532002790796\n",
      "0.000517190597624\n",
      "0.00050279309652\n",
      "0.000488798608093\n",
      "0.000475195783555\n",
      "0.000461973595965\n",
      "0.000449121330566\n",
      "0.00043662857603\n",
      "0.000424485216276\n",
      "0.000412681421257\n",
      "0.000401207639688\n",
      "0.000390054590061\n",
      "0.000379213253827\n",
      "0.000368674867776\n",
      "0.000358430916425\n",
      "0.000348473125076\n",
      "0.000338793453342\n",
      "0.000329384087867\n",
      "0.000320237436075\n",
      "0.000311346120601\n",
      "0.000302702972012\n",
      "0.000294301023122\n",
      "0.000286133504564\n",
      "0.000278193837279\n",
      "0.000270475628544\n",
      "0.0002629726656\n",
      "0.000255678911562\n",
      "0.000248588499279\n",
      "0.000241695728154\n",
      "0.000234995057316\n",
      "0.000228481102785\n",
      "0.000222148632351\n",
      "0.000215992561256\n",
      "0.000210007948102\n",
      "0.000204189990644\n",
      "0.000198534022037\n",
      "0.000193035507199\n",
      "0.00018769003815\n",
      "0.000182493331626\n",
      "0.000177441224868\n",
      "0.000172529672103\n",
      "0.000167754741587\n",
      "0.000163112612076\n",
      "0.00015859956999\n",
      "0.000154212006454\n",
      "0.000149946413434\n",
      "0.000145799382143\n",
      "0.000141767599293\n",
      "0.000137847845043\n",
      "0.000134036989597\n",
      "0.000130331991603\n",
      "0.000126729894863\n",
      "0.000123227826283\n",
      "0.000119822993373\n",
      "0.000116512682315\n",
      "0.000113294255119\n",
      "0.000110165148034\n",
      "0.000107122869385\n",
      "0.000104164997187\n",
      "0.000101289177327\n",
      "9.84931220855e-05\n",
      "9.57746075201e-05\n",
      "9.31314723303e-05\n",
      "9.0561615697e-05\n",
      "8.80629955773e-05\n",
      "8.56336272264e-05\n",
      "8.32715814922e-05\n",
      "8.09749835653e-05\n",
      "7.87420107045e-05\n",
      "7.6570891214e-05\n",
      "7.4459903648e-05\n",
      "7.24073736265e-05\n",
      "7.04116748593e-05\n",
      "6.84712256216e-05\n",
      "6.65844889809e-05\n",
      "6.47499707511e-05\n",
      "6.29662186966e-05\n",
      "6.12318210542e-05\n",
      "5.95454056238e-05\n",
      "5.7905638404e-05\n",
      "5.63112229102e-05\n",
      "5.47608986963e-05\n",
      "5.32534407867e-05\n",
      "5.17876579706e-05\n",
      "5.03623929162e-05\n",
      "4.897652001e-05\n",
      "4.76289454709e-05\n",
      "4.63186058723e-05\n",
      "4.50444676872e-05\n",
      "4.38055259238e-05\n",
      "4.26008036711e-05\n",
      "4.14293515305e-05\n",
      "4.02902463648e-05\n",
      "3.91825909574e-05\n",
      "3.81055127618e-05\n",
      "3.70581639018e-05\n",
      "3.60397201475e-05\n",
      "3.5049380007e-05\n",
      "3.40863643842e-05\n",
      "3.31499161248e-05\n",
      "3.22392987655e-05\n",
      "3.13537967613e-05\n",
      "3.04927141215e-05\n",
      "2.96553744092e-05\n",
      "2.88411202873e-05\n",
      "2.80493122673e-05\n",
      "2.72793289369e-05\n",
      "2.65305658231e-05\n",
      "2.58024358473e-05\n",
      "2.50943676192e-05\n",
      "2.44058063472e-05\n",
      "2.37362121325e-05\n",
      "2.30850599692e-05\n",
      "2.24518400855e-05\n",
      "2.18360563522e-05\n",
      "2.12372265096e-05\n",
      "2.06548819406e-05\n",
      "2.00885668746e-05\n",
      "1.95378380468e-05\n",
      "1.90022648112e-05\n",
      "1.8481428232e-05\n",
      "1.79749211966e-05\n",
      "1.74823478474e-05\n",
      "1.7003323127e-05\n",
      "1.65374727785e-05\n",
      "1.60844332313e-05\n",
      "1.56438504646e-05\n",
      "1.52153805757e-05\n",
      "1.4798689439e-05\n",
      "1.43934516827e-05\n",
      "1.39993512576e-05\n",
      "1.36160808679e-05\n",
      "1.32433414037e-05\n",
      "1.28808428499e-05\n",
      "1.25283023535e-05\n",
      "1.2185445361e-05\n",
      "1.18520048218e-05\n",
      "1.15277210753e-05\n",
      "1.12123416229e-05\n",
      "1.09056211286e-05\n",
      "1.06073207362e-05\n",
      "1.03172085246e-05\n",
      "1.00350587118e-05\n",
      "9.76065199576e-06\n"
     ]
    }
   ],
   "source": [
    "x_0 = np.zeros_like(rhs)\n",
    "error = 1\n",
    "tol = 1e-5\n",
    "E = []\n",
    "while error > tol:\n",
    "    x_0 = multigrid_V_sweep(A, rhs, x_0, GS_smoother, 3, 3)\n",
    "    error = np.linalg.norm(A[0]@x_0 - rhs, ord=np.inf)\n",
    "    print(error)\n",
    "    E.append(error)"
   ]
  },
  {
   "cell_type": "code",
   "execution_count": 21,
   "metadata": {},
   "outputs": [
    {
     "data": {
      "text/plain": [
       "[<matplotlib.lines.Line2D at 0x61cf234a8>]"
      ]
     },
     "execution_count": 21,
     "metadata": {},
     "output_type": "execute_result"
    },
    {
     "data": {
      "image/png": "[encoded data removed]",
      "text/plain": [
       "<matplotlib.figure.Figure at 0x61d271400>"
      ]
     },
     "metadata": {},
     "output_type": "display_data"
    }
   ],
   "source": [
    "plt.plot(np.log10(E))"
   ]
  },
  {
   "cell_type": "code",
   "execution_count": 22,
   "metadata": {},
   "outputs": [
    {
     "name": "stdout",
     "output_type": "stream",
     "text": [
      "3698.18205218\n",
      "3382.73734381\n",
      "3093.94471262\n",
      "2829.31791242\n",
      "2586.75680523\n",
      "2364.34884353\n",
      "2160.35524574\n",
      "1973.18763314\n",
      "1801.38649929\n",
      "1643.6117216\n",
      "1498.63395543\n",
      "1365.32282393\n",
      "1242.6384402\n",
      "1129.62371166\n",
      "1025.39669254\n",
      "929.143533536\n",
      "840.112304989\n",
      "757.607178985\n",
      "680.982895726\n",
      "609.639772586\n",
      "543.019041653\n",
      "480.598438882\n",
      "421.888130765\n",
      "366.426898398\n",
      "313.77850657\n",
      "263.528299068\n",
      "215.279970675\n",
      "168.652492068\n",
      "125.565639468\n",
      "84.2690968653\n",
      "43.6768109121\n",
      "0.451203505087\n",
      "0.32534374727\n",
      "0.244916923735\n",
      "0.184444510485\n",
      "0.138483452848\n",
      "0.102934322971\n",
      "0.0753804000069\n",
      "0.054158301733\n",
      "0.0380293913804\n",
      "0.0259325386887\n",
      "0.0170470790472\n",
      "0.0106584586301\n",
      "0.00620376796633\n",
      "0.00352675779277\n",
      "0.0027316433725\n",
      "0.0024723490209\n",
      "0.00217584984011\n",
      "0.00185908506683\n",
      "0.00150606220132\n",
      "0.00116470115836\n",
      "0.000857356261804\n",
      "0.000619921435828\n",
      "0.000472330017146\n",
      "0.000339957338838\n",
      "0.000228303893891\n",
      "0.000175592143933\n",
      "0.000135143333864\n",
      "0.000101654614049\n",
      "9.00584781576e-05\n",
      "7.93121084826e-05\n",
      "7.19273912182e-05\n",
      "5.92918736402e-05\n",
      "4.53381790066e-05\n",
      "3.15106531161e-05\n",
      "1.9730744043e-05\n",
      "1.11438494059e-05\n",
      "7.60104148867e-06\n"
     ]
    }
   ],
   "source": [
    "x_0 = np.zeros_like(rhs)\n",
    "error = 1\n",
    "tol = 1e-5\n",
    "E = []\n",
    "smoother = lambda A, d, x_0, N: GaBP_smoother(A, d, x_0, N, type='Sequential')\n",
    "while error > tol:\n",
    "    x_0 = multigrid_V_sweep(A, rhs, x_0, smoother, 1, 1)\n",
    "    error = np.linalg.norm(A[0]@x_0 - rhs, ord=np.inf)\n",
    "    print(error)\n",
    "    E.append(error)"
   ]
  },
  {
   "cell_type": "code",
   "execution_count": 23,
   "metadata": {},
   "outputs": [
    {
     "data": {
      "text/plain": [
       "[<matplotlib.lines.Line2D at 0x61d097978>]"
      ]
     },
     "execution_count": 23,
     "metadata": {},
     "output_type": "execute_result"
    },
    {
     "data": {
      "image/png": "[encoded data removed]",
      "text/plain": [
       "<matplotlib.figure.Figure at 0x6253b1f28>"
      ]
     },
     "metadata": {},
     "output_type": "display_data"
    }
   ],
   "source": [
    "plt.plot(np.log10(E))"
   ]
  },
  {
   "cell_type": "code",
   "execution_count": 24,
   "metadata": {},
   "outputs": [
    {
     "name": "stdout",
     "output_type": "stream",
     "text": [
      "0.0672385031289\n",
      "0.000180957758499\n",
      "9.27539383966e-07\n"
     ]
    }
   ],
   "source": [
    "x_0 = np.zeros_like(rhs)\n",
    "error = 1\n",
    "tol = 1e-5\n",
    "E = []\n",
    "smoother = stripes_GaBP_smoother\n",
    "while error > tol:\n",
    "    x_0 = multigrid_V_sweep(A, rhs, x_0, smoother, 1, 1)\n",
    "    error = np.linalg.norm(A[0]@x_0 - rhs, ord=np.inf)\n",
    "    print(error)\n",
    "    E.append(error)"
   ]
  },
  {
   "cell_type": "code",
   "execution_count": 25,
   "metadata": {},
   "outputs": [
    {
     "data": {
      "text/plain": [
       "[<matplotlib.lines.Line2D at 0x61ceb4b00>]"
      ]
     },
     "execution_count": 25,
     "metadata": {},
     "output_type": "execute_result"
    },
    {
     "data": {
      "image/png": "[encoded data removed]",
      "text/plain": [
       "<matplotlib.figure.Figure at 0x61d0ab048>"
      ]
     },
     "metadata": {},
     "output_type": "display_data"
    }
   ],
   "source": [
    "plt.plot(np.log10(E))"
   ]
  },
  {
   "cell_type": "markdown",
   "metadata": {},
   "source": [
    "Convergence rate does not depend on the magnitude of the anisotropy parameter."
   ]
  },
  {
   "cell_type": "code",
   "execution_count": 26,
   "metadata": {
    "collapsed": true
   },
   "outputs": [],
   "source": [
    "EE = []\n",
    "eps = []\n",
    "for epsilon in np.logspace(-6, -3, 4):\n",
    "    eps.append(epsilon)\n",
    "    equation = lambda L_x, L_y: equations.epsilon_laplacian(L_x, L_y, epsilon)\n",
    "    A, rhs = construct_multigrid_hierarchy(equation, 6, 3)\n",
    "\n",
    "    x_0 = np.zeros_like(rhs)\n",
    "    error = 1\n",
    "    tol = 1e-5\n",
    "    E = []\n",
    "    smoother = lambda A, d, x_0, N: GaBP_smoother(A, d, x_0, N, type='Sequential')\n",
    "    while error > tol:\n",
    "        x_0 = multigrid_V_sweep(A, rhs, x_0, smoother, 2, 2)\n",
    "        error = np.linalg.norm(A[0]@x_0 - rhs, ord=np.inf)\n",
    "        E.append(error)\n",
    "    EE.append(E)"
   ]
  },
  {
   "cell_type": "code",
   "execution_count": 27,
   "metadata": {},
   "outputs": [
    {
     "data": {
      "image/png": "[encoded data removed]",
      "text/plain": [
       "<matplotlib.figure.Figure at 0x6254872e8>"
      ]
     },
     "metadata": {},
     "output_type": "display_data"
    }
   ],
   "source": [
    "plt.plot(np.log10(EE[0]), 'x', dashes=[2, 0, 2, 0], color='black', label='$\\\\epsilon = 10^{-6}$')\n",
    "plt.plot(np.log10(EE[1]), '.', dashes=[2, 0, 2, 0], color='black', label='$\\\\epsilon = 10^{-5}$')\n",
    "plt.plot(np.log10(EE[2]), dashes=[4, 2, 4, 2], color='black', label='$\\\\epsilon = 10^{-4}$')\n",
    "plt.plot(np.log10(EE[3]), color='black', label='$\\\\epsilon = 10^{-3}$')\n",
    "plt.xlabel('iteration')\n",
    "plt.ylabel('$\\\\left\\|Ax - b\\\\right\\|_{\\\\infty}$')\n",
    "plt.grid()\n",
    "plt.legend();\n",
    "#plt.savefig('anisotropic_equation_2_sweeps.eps', format='eps')"
   ]
  },
  {
   "cell_type": "code",
   "execution_count": 28,
   "metadata": {
    "collapsed": true
   },
   "outputs": [],
   "source": [
    "EE = []\n",
    "eps = []\n",
    "for epsilon in np.logspace(-6, -3, 4):\n",
    "    eps.append(epsilon)\n",
    "    equation = lambda L_x, L_y: equations.epsilon_laplacian(L_x, L_y, epsilon)\n",
    "    A, rhs = construct_multigrid_hierarchy(equation, 6, 3)\n",
    "\n",
    "    x_0 = np.zeros_like(rhs)\n",
    "    error = 1\n",
    "    tol = 1e-5\n",
    "    E = []\n",
    "    smoother = lambda A, d, x_0, N: GaBP_smoother(A, d, x_0, N, type='Sequential')\n",
    "    while error > tol:\n",
    "        x_0 = multigrid_V_sweep(A, rhs, x_0, smoother, 3, 3)\n",
    "        error = np.linalg.norm(A[0]@x_0 - rhs, ord=np.inf)\n",
    "        E.append(error)\n",
    "    EE.append(E)"
   ]
  },
  {
   "cell_type": "code",
   "execution_count": 29,
   "metadata": {},
   "outputs": [
    {
     "data": {
      "image/png": "[encoded data removed]",
      "text/plain": [
       "<matplotlib.figure.Figure at 0x61dda2da0>"
      ]
     },
     "metadata": {},
     "output_type": "display_data"
    }
   ],
   "source": [
    "plt.plot(np.log10(EE[0]), 'x', dashes=[2, 0, 2, 0], color='black', label='$\\\\epsilon = 10^{-6}$')\n",
    "plt.plot(np.log10(EE[1]), '.', dashes=[2, 0, 2, 0], color='black', label='$\\\\epsilon = 10^{-5}$')\n",
    "plt.plot(np.log10(EE[2]), dashes=[4, 2, 4, 2], color='black', label='$\\\\epsilon = 10^{-4}$')\n",
    "plt.plot(np.log10(EE[3]), color='black', label='$\\\\epsilon = 10^{-3}$')\n",
    "plt.xlabel('iteration')\n",
    "plt.ylabel('$\\\\left\\|Ax - b\\\\right\\|_{\\\\infty}$')\n",
    "plt.grid()\n",
    "plt.legend();\n",
    "#plt.savefig('anisotropic_equation_3_sweeps.eps', format='eps')"
   ]
  },
  {
   "cell_type": "markdown",
   "metadata": {},
   "source": [
    "More examples for different equations."
   ]
  },
  {
   "cell_type": "code",
   "execution_count": 30,
   "metadata": {
    "collapsed": true
   },
   "outputs": [],
   "source": [
    "A, rhs = construct_multigrid_hierarchy(equations.equation_5, 6, 3)"
   ]
  },
  {
   "cell_type": "code",
   "execution_count": 31,
   "metadata": {},
   "outputs": [
    {
     "name": "stdout",
     "output_type": "stream",
     "text": [
      "626.912422284\n",
      "216.436928622\n",
      "122.534729324\n",
      "67.4394480188\n",
      "35.8258426753\n",
      "18.94635078\n",
      "10.0954942261\n",
      "5.41237093926\n",
      "2.90561564897\n",
      "1.561932621\n",
      "0.840650450964\n",
      "0.452948559513\n",
      "0.244296560079\n",
      "0.131880564833\n",
      "0.0712531462741\n",
      "0.038526190715\n",
      "0.0208453562928\n",
      "0.0112859778465\n",
      "0.00611397416836\n",
      "0.00331392487445\n",
      "0.00179712558023\n",
      "0.000975022574522\n",
      "0.000529220533309\n",
      "0.000287363177478\n",
      "0.000156093859943\n",
      "8.48183317714e-05\n",
      "4.61033787644e-05\n",
      "2.50671928654e-05\n",
      "1.36332710383e-05\n",
      "7.41665465398e-06\n",
      "4.0357345199e-06\n",
      "2.19652977762e-06\n",
      "1.19576273505e-06\n",
      "6.51091824011e-07\n"
     ]
    },
    {
     "data": {
      "text/plain": [
       "[<matplotlib.lines.Line2D at 0x61d44b2e8>]"
      ]
     },
     "execution_count": 31,
     "metadata": {},
     "output_type": "execute_result"
    },
    {
     "data": {
      "image/png": "[encoded data removed]",
      "text/plain": [
       "<matplotlib.figure.Figure at 0x61d040198>"
      ]
     },
     "metadata": {},
     "output_type": "display_data"
    }
   ],
   "source": [
    "x_0 = np.zeros_like(rhs)\n",
    "error = 1\n",
    "tol = 1e-6\n",
    "E = []\n",
    "while error > tol:\n",
    "    x_0 = multigrid_V_sweep(A, rhs, x_0, GS_smoother, 2, 2)\n",
    "    error = np.linalg.norm(A[0]@x_0 - rhs, ord=np.inf)\n",
    "    print(error)\n",
    "    E.append(error)\n",
    "plt.plot(np.log10(E))"
   ]
  },
  {
   "cell_type": "code",
   "execution_count": 32,
   "metadata": {},
   "outputs": [
    {
     "name": "stdout",
     "output_type": "stream",
     "text": [
      "4426.63863104\n",
      "2555.52515497\n",
      "1116.23971929\n",
      "354.032648639\n",
      "83.8391238253\n",
      "13.0954174948\n",
      "2.16899383053\n",
      "0.891318538152\n",
      "0.378496871586\n",
      "0.137146403741\n",
      "0.0433186168216\n",
      "0.0116524527242\n",
      "0.00352972586316\n",
      "0.00172378554243\n",
      "0.000655808509519\n",
      "0.000245982002866\n",
      "0.000127560232839\n",
      "4.48880036554e-05\n",
      "1.47609709149e-05\n",
      "4.32786837745e-06\n",
      "1.75797780022e-06\n",
      "7.88449544209e-07\n"
     ]
    },
    {
     "data": {
      "text/plain": [
       "[<matplotlib.lines.Line2D at 0x61cec0908>]"
      ]
     },
     "execution_count": 32,
     "metadata": {},
     "output_type": "execute_result"
    },
    {
     "data": {
      "image/png": "[encoded data removed]",
      "text/plain": [
       "<matplotlib.figure.Figure at 0x61dda2518>"
      ]
     },
     "metadata": {},
     "output_type": "display_data"
    }
   ],
   "source": [
    "x_0 = np.zeros_like(rhs)\n",
    "error = 1\n",
    "tol = 1e-6\n",
    "E = []\n",
    "smoother = lambda A, d, x_0, N: GaBP_smoother(A, d, x_0, N, type='Sequential')\n",
    "while error > tol:\n",
    "    x_0 = multigrid_V_sweep(A, rhs, x_0, smoother, 1, 1)\n",
    "    error = np.linalg.norm(A[0]@x_0 - rhs, ord=np.inf)\n",
    "    print(error)\n",
    "    E.append(error)\n",
    "plt.plot(np.log10(E))"
   ]
  },
  {
   "cell_type": "code",
   "execution_count": 33,
   "metadata": {
    "collapsed": true
   },
   "outputs": [],
   "source": [
    "A, rhs = construct_multigrid_hierarchy(equations.equation_2, 6, 3)"
   ]
  },
  {
   "cell_type": "code",
   "execution_count": 34,
   "metadata": {},
   "outputs": [
    {
     "name": "stdout",
     "output_type": "stream",
     "text": [
      "2778.9991815\n",
      "366.077487337\n",
      "58.1162300561\n",
      "8.93938185657\n",
      "1.33556917277\n",
      "0.195093703665\n",
      "0.0290313189753\n",
      "0.00474265340199\n",
      "0.000767187072142\n",
      "0.000122052103052\n",
      "1.90778823708e-05\n",
      "2.94248002319e-06\n",
      "4.44880242867e-07\n"
     ]
    },
    {
     "data": {
      "text/plain": [
       "[<matplotlib.lines.Line2D at 0x61d97a2e8>]"
      ]
     },
     "execution_count": 34,
     "metadata": {},
     "output_type": "execute_result"
    },
    {
     "data": {
      "image/png": "[encoded data removed]",
      "text/plain": [
       "<matplotlib.figure.Figure at 0x61d0b6f28>"
      ]
     },
     "metadata": {},
     "output_type": "display_data"
    }
   ],
   "source": [
    "x_0 = np.zeros_like(rhs)\n",
    "error = 1\n",
    "tol = 1e-6\n",
    "E = []\n",
    "while error > tol:\n",
    "    x_0 = multigrid_V_sweep(A, rhs, x_0, GS_smoother, 2, 2)\n",
    "    error = np.linalg.norm(A[0]@x_0 - rhs, ord=np.inf)\n",
    "    print(error)\n",
    "    E.append(error)\n",
    "plt.plot(np.log10(E))"
   ]
  },
  {
   "cell_type": "code",
   "execution_count": 35,
   "metadata": {},
   "outputs": [
    {
     "name": "stdout",
     "output_type": "stream",
     "text": [
      "8806.97442185\n",
      "1834.58647599\n",
      "432.770265812\n",
      "122.937035327\n",
      "38.1422957448\n",
      "10.1649161741\n",
      "2.49546408215\n",
      "0.661411580194\n",
      "0.164772621917\n",
      "0.0407460432821\n",
      "0.00997938816442\n",
      "0.00266291888695\n",
      "0.000803732392569\n",
      "0.000248718554424\n",
      "7.56556242045e-05\n",
      "2.0371741698e-05\n",
      "5.06018567847e-06\n",
      "1.34600069235e-06\n",
      "3.26857367838e-07\n"
     ]
    },
    {
     "data": {
      "text/plain": [
       "[<matplotlib.lines.Line2D at 0x61df437b8>]"
      ]
     },
     "execution_count": 35,
     "metadata": {},
     "output_type": "execute_result"
    },
    {
     "data": {
      "image/png": "[encoded data removed]",
      "text/plain": [
       "<matplotlib.figure.Figure at 0x61d040c50>"
      ]
     },
     "metadata": {},
     "output_type": "display_data"
    }
   ],
   "source": [
    "x_0 = np.zeros_like(rhs)\n",
    "error = 1\n",
    "tol = 1e-6\n",
    "E = []\n",
    "smoother = lambda A, d, x_0, N: GaBP_smoother(A, d, x_0, N, type='Sequential')\n",
    "while error > tol:\n",
    "    x_0 = multigrid_V_sweep(A, rhs, x_0, smoother, 1, 1)\n",
    "    error = np.linalg.norm(A[0]@x_0 - rhs, ord=np.inf)\n",
    "    print(error)\n",
    "    E.append(error)\n",
    "plt.plot(np.log10(E))"
   ]
  },
  {
   "cell_type": "code",
   "execution_count": 36,
   "metadata": {
    "collapsed": true
   },
   "outputs": [],
   "source": [
    "A, rhs = construct_multigrid_hierarchy(equations.equation_6, 6, 6)"
   ]
  },
  {
   "cell_type": "code",
   "execution_count": 37,
   "metadata": {},
   "outputs": [
    {
     "name": "stdout",
     "output_type": "stream",
     "text": [
      "1720.74632578\n",
      "258.299520518\n",
      "117.208221658\n",
      "52.246927371\n",
      "22.4991028526\n",
      "9.4303352594\n",
      "3.89460435223\n",
      "1.58422977697\n",
      "0.642198871926\n",
      "0.258509543774\n",
      "0.103601523638\n",
      "0.0414016856939\n",
      "0.0165139769642\n",
      "0.00658885462155\n",
      "0.00262573452449\n",
      "0.00104542922338\n",
      "0.000415956117763\n",
      "0.000165418847359\n",
      "6.57600168097e-05\n",
      "2.6134775112e-05\n",
      "1.03845078456e-05\n",
      "4.12559450069e-06\n",
      "1.63884317317e-06\n",
      "6.5095730406e-07\n"
     ]
    },
    {
     "data": {
      "text/plain": [
       "[<matplotlib.lines.Line2D at 0x61d9a04e0>]"
      ]
     },
     "execution_count": 37,
     "metadata": {},
     "output_type": "execute_result"
    },
    {
     "data": {
      "image/png": "[encoded data removed]",
      "text/plain": [
       "<matplotlib.figure.Figure at 0x61dd8c320>"
      ]
     },
     "metadata": {},
     "output_type": "display_data"
    }
   ],
   "source": [
    "x_0 = np.zeros_like(rhs)\n",
    "error = 1\n",
    "tol = 1e-6\n",
    "E = []\n",
    "while error > tol:\n",
    "    x_0 = multigrid_V_sweep(A, rhs, x_0, GS_smoother, 2, 2)\n",
    "    error = np.linalg.norm(A[0]@x_0 - rhs, ord=np.inf)\n",
    "    print(error)\n",
    "    E.append(error)\n",
    "plt.plot(np.log10(E))"
   ]
  },
  {
   "cell_type": "code",
   "execution_count": 38,
   "metadata": {},
   "outputs": [
    {
     "name": "stdout",
     "output_type": "stream",
     "text": [
      "4957.03822641\n",
      "1205.35665767\n",
      "517.217201182\n",
      "215.855676683\n",
      "87.3722810419\n",
      "34.2004579571\n",
      "13.0188173968\n",
      "4.80277121554\n",
      "1.75429091028\n",
      "0.638426726174\n",
      "0.257025550771\n",
      "0.0996387079048\n",
      "0.0368870794274\n",
      "0.0131387900587\n",
      "0.00446298687356\n",
      "0.00145353351051\n",
      "0.00044972038161\n",
      "0.000132656331573\n",
      "3.69198164663e-05\n",
      "9.70697396951e-06\n",
      "2.5051706416e-06\n",
      "7.64745891502e-07\n"
     ]
    },
    {
     "data": {
      "text/plain": [
       "[<matplotlib.lines.Line2D at 0x61da43438>]"
      ]
     },
     "execution_count": 38,
     "metadata": {},
     "output_type": "execute_result"
    },
    {
     "data": {
      "image/png": "[encoded data removed]",
      "text/plain": [
       "<matplotlib.figure.Figure at 0x61d95e710>"
      ]
     },
     "metadata": {},
     "output_type": "display_data"
    }
   ],
   "source": [
    "x_0 = np.zeros_like(rhs)\n",
    "error = 1\n",
    "tol = 1e-6\n",
    "E = []\n",
    "smoother = lambda A, d, x_0, N: GaBP_smoother(A, d, x_0, N, type='Sequential')\n",
    "while error > tol:\n",
    "    x_0 = multigrid_V_sweep(A, rhs, x_0, smoother, 1, 1)\n",
    "    error = np.linalg.norm(A[0]@x_0 - rhs, ord=np.inf)\n",
    "    print(error)\n",
    "    E.append(error)\n",
    "plt.plot(np.log10(E))"
   ]
  },
  {
   "cell_type": "code",
   "execution_count": 39,
   "metadata": {
    "collapsed": true
   },
   "outputs": [],
   "source": [
    "import sympy as sp\n",
    "\n",
    "def equation_7(L_x, L_y):\n",
    "    x, y = sp.symbols('x, y', real=True)\n",
    "    a = sp.exp(-x*y) + 3\n",
    "    b = sp.exp(-2*x+2*y)\n",
    "    alpha = sp.cos(sp.pi*(x + y/2)) + 4\n",
    "    beta = sp.exp(2*x - 2*y)\n",
    "    q = sp.exp(-3*x-4*y)\n",
    "    exact = sp.cos(sp.pi*x)*sp.cos(sp.pi*y)\n",
    "    return equations.construct_equation(a, b, alpha, beta, q, exact, x, y, L_x, L_y)"
   ]
  },
  {
   "cell_type": "code",
   "execution_count": 40,
   "metadata": {
    "collapsed": true
   },
   "outputs": [],
   "source": [
    "A, rhs = construct_multigrid_hierarchy(equation_7, 6, 6)"
   ]
  },
  {
   "cell_type": "code",
   "execution_count": 41,
   "metadata": {},
   "outputs": [
    {
     "name": "stdout",
     "output_type": "stream",
     "text": [
      "5500.16516789\n",
      "1605.24792082\n",
      "432.756232431\n",
      "106.795032698\n",
      "24.9765965469\n",
      "5.3650062038\n",
      "1.03830069746\n",
      "0.18165621846\n",
      "0.0291615103955\n",
      "0.0040704353185\n",
      "0.000496103707704\n",
      "6.02352999906e-05\n",
      "6.56223481599e-06\n",
      "5.67994248968e-07\n"
     ]
    },
    {
     "data": {
      "text/plain": [
       "[<matplotlib.lines.Line2D at 0x61e8cb9e8>]"
      ]
     },
     "execution_count": 41,
     "metadata": {},
     "output_type": "execute_result"
    },
    {
     "data": {
      "image/png": "[encoded data removed]",
      "text/plain": [
       "<matplotlib.figure.Figure at 0x61df71e80>"
      ]
     },
     "metadata": {},
     "output_type": "display_data"
    }
   ],
   "source": [
    "x_0 = np.zeros_like(rhs)\n",
    "error = 1\n",
    "tol = 1e-6\n",
    "E = []\n",
    "smoother = lambda A, d, x_0, N: GaBP_smoother(A, d, x_0, N, type='Sequential')\n",
    "while error > tol:\n",
    "    x_0 = multigrid_V_sweep(A, rhs, x_0, smoother, 2, 2)\n",
    "    error = np.linalg.norm(A[0]@x_0 - rhs, ord=np.inf)\n",
    "    print(error)\n",
    "    E.append(error)\n",
    "plt.plot(np.log10(E))"
   ]
  },
  {
   "cell_type": "code",
   "execution_count": 42,
   "metadata": {},
   "outputs": [
    {
     "name": "stdout",
     "output_type": "stream",
     "text": [
      "7365.63982484\n",
      "4069.39668154\n",
      "2221.83238719\n",
      "1191.48682337\n",
      "626.106797865\n",
      "322.075214408\n",
      "161.99157579\n",
      "80.2734773429\n",
      "39.4389639813\n",
      "18.9816278569\n",
      "8.94050348486\n",
      "4.1161726295\n",
      "1.8504444074\n",
      "0.811145747028\n",
      "0.346287152715\n",
      "0.14371771573\n",
      "0.0579060543268\n",
      "0.0226022146173\n",
      "0.00853299251686\n",
      "0.00336280728254\n",
      "0.00134505450035\n",
      "0.000521143569358\n",
      "0.000193714956367\n",
      "6.95722026194e-05\n",
      "2.39113649059e-05\n",
      "7.91552201918e-06\n",
      "2.4989267331e-06\n",
      "7.5683601608e-07\n"
     ]
    },
    {
     "data": {
      "text/plain": [
       "[<matplotlib.lines.Line2D at 0x61ded14e0>]"
      ]
     },
     "execution_count": 42,
     "metadata": {},
     "output_type": "execute_result"
    },
    {
     "data": {
      "image/png": "[encoded data removed]",
      "text/plain": [
       "<matplotlib.figure.Figure at 0x61dcb1c50>"
      ]
     },
     "metadata": {},
     "output_type": "display_data"
    }
   ],
   "source": [
    "x_0 = np.zeros_like(rhs)\n",
    "error = 1\n",
    "tol = 1e-6\n",
    "E = []\n",
    "smoother = lambda A, d, x_0, N: GaBP_smoother(A, d, x_0, N, type='Sequential')\n",
    "while error > tol:\n",
    "    x_0 = multigrid_V_sweep(A, rhs, x_0, smoother, 1, 1)\n",
    "    error = np.linalg.norm(A[0]@x_0 - rhs, ord=np.inf)\n",
    "    print(error)\n",
    "    E.append(error)\n",
    "plt.plot(np.log10(E))"
   ]
  },
  {
   "cell_type": "markdown",
   "metadata": {},
   "source": [
    "ellipticity is almost lost"
   ]
  },
  {
   "cell_type": "code",
   "execution_count": 43,
   "metadata": {
    "collapsed": true
   },
   "outputs": [],
   "source": [
    "import sympy as sp\n",
    "\n",
    "def equation_8(L_x, L_y):\n",
    "    x, y = sp.symbols('x, y', real=True)\n",
    "    a = sp.exp(-x*y)\n",
    "    b = sp.exp(-2*x+2*y)\n",
    "    alpha = sp.cos(sp.pi*(x + y/2))\n",
    "    beta = sp.exp(2*x - 2*y)\n",
    "    q = 4*sp.exp(-3*x-4*y)\n",
    "    exact = sp.cos(sp.pi*x)*sp.cos(sp.pi*y)\n",
    "    return equations.construct_equation(a, b, alpha, beta, q, exact, x, y, L_x, L_y)"
   ]
  },
  {
   "cell_type": "code",
   "execution_count": 44,
   "metadata": {
    "collapsed": true
   },
   "outputs": [],
   "source": [
    "A, rhs = construct_multigrid_hierarchy(equation_8, 6, 6)"
   ]
  },
  {
   "cell_type": "code",
   "execution_count": 45,
   "metadata": {},
   "outputs": [
    {
     "name": "stdout",
     "output_type": "stream",
     "text": [
      "2030.16484198\n",
      "408.745424631\n",
      "99.0936147294\n",
      "24.0708640787\n",
      "5.97210999747\n",
      "4.02544265758\n",
      "2.74856693994\n",
      "1.89041685707\n",
      "1.30576840892\n",
      "0.904233556809\n",
      "0.627091779345\n",
      "0.435223211117\n",
      "0.302150260789\n",
      "0.209765122922\n",
      "0.145599251042\n",
      "0.101029409679\n",
      "0.0700756271938\n",
      "0.0485844860525\n",
      "0.0336689126955\n",
      "0.0233214850116\n",
      "0.0161464495716\n",
      "0.0111735643498\n",
      "0.00772861374141\n",
      "0.00534328864821\n",
      "0.00369245459776\n",
      "0.00255049017894\n",
      "0.00176090767243\n",
      "0.00121522407996\n",
      "0.000838272642135\n",
      "0.000577996922651\n",
      "0.000398363069756\n",
      "0.000274440228416\n",
      "0.000188987610521\n",
      "0.000130088008767\n",
      "8.95078158223e-05\n",
      "6.15609917745e-05\n",
      "4.2322594048e-05\n",
      "2.90845203139e-05\n",
      "1.99790695419e-05\n",
      "1.37186973674e-05\n",
      "9.41619443751e-06\n",
      "6.46045307207e-06\n",
      "4.4307373841e-06\n",
      "3.03748426944e-06\n",
      "2.08150802194e-06\n",
      "1.4258260066e-06\n",
      "9.76293698329e-07\n"
     ]
    },
    {
     "data": {
      "text/plain": [
       "[<matplotlib.lines.Line2D at 0x61dbecba8>]"
      ]
     },
     "execution_count": 45,
     "metadata": {},
     "output_type": "execute_result"
    },
    {
     "data": {
      "image/png": "[encoded data removed]",
      "text/plain": [
       "<matplotlib.figure.Figure at 0x61dedb358>"
      ]
     },
     "metadata": {},
     "output_type": "display_data"
    }
   ],
   "source": [
    "x_0 = np.zeros_like(rhs)\n",
    "error = 1\n",
    "tol = 1e-6\n",
    "E = []\n",
    "while error > tol:\n",
    "    x_0 = multigrid_V_sweep(A, rhs, x_0, GS_smoother, 2, 2)\n",
    "    error = np.linalg.norm(A[0]@x_0 - rhs, ord=np.inf)\n",
    "    print(error)\n",
    "    E.append(error)\n",
    "plt.plot(np.log10(E))"
   ]
  },
  {
   "cell_type": "code",
   "execution_count": 46,
   "metadata": {},
   "outputs": [
    {
     "name": "stdout",
     "output_type": "stream",
     "text": [
      "6946.8389912\n",
      "1873.23083453\n",
      "508.719471032\n",
      "132.228751287\n",
      "32.6864293744\n",
      "8.35472332728\n",
      "2.72997743485\n",
      "1.97624699837\n",
      "1.43252001873\n",
      "1.04406119413\n",
      "0.765282511039\n",
      "0.559970335936\n",
      "0.409339211396\n",
      "0.299065220961\n",
      "0.218435515992\n",
      "0.159522085246\n",
      "0.116492261474\n",
      "0.0850696168554\n",
      "0.0621249484075\n",
      "0.0453710911415\n",
      "0.0331373829449\n",
      "0.0242038939568\n",
      "0.0176799665023\n",
      "0.0129153811386\n",
      "0.00943545045175\n",
      "0.00689362195226\n",
      "0.00503687708715\n",
      "0.00368047507527\n",
      "0.00268951873113\n",
      "0.00196549949578\n",
      "0.00143647629466\n",
      "0.00104990655291\n",
      "0.000767412695495\n",
      "0.000560961379961\n",
      "0.000410073870626\n",
      "0.00029978913426\n",
      "0.000219176431528\n",
      "0.000160249074725\n",
      "0.000117171081911\n",
      "8.56777596709e-05\n",
      "6.2652455199e-05\n",
      "4.58173462903e-05\n",
      "3.35075901603e-05\n",
      "2.45062847171e-05\n",
      "1.79238932105e-05\n",
      "1.31101396619e-05\n",
      "9.58963482844e-06\n",
      "7.01481076248e-06\n",
      "5.13155646331e-06\n",
      "3.75475726599e-06\n",
      "2.74835590375e-06\n",
      "2.01176251124e-06\n",
      "1.47262587546e-06\n",
      "1.07800885729e-06\n",
      "7.89156068493e-07\n"
     ]
    },
    {
     "data": {
      "text/plain": [
       "[<matplotlib.lines.Line2D at 0x61e07ceb8>]"
      ]
     },
     "execution_count": 46,
     "metadata": {},
     "output_type": "execute_result"
    },
    {
     "data": {
      "image/png": "[encoded data removed]",
      "text/plain": [
       "<matplotlib.figure.Figure at 0x61dcb1cc0>"
      ]
     },
     "metadata": {},
     "output_type": "display_data"
    }
   ],
   "source": [
    "x_0 = np.zeros_like(rhs)\n",
    "error = 1\n",
    "tol = 1e-6\n",
    "E = []\n",
    "smoother = lambda A, d, x_0, N: GaBP_smoother(A, d, x_0, N, type='Sequential')\n",
    "while error > tol:\n",
    "    x_0 = multigrid_V_sweep(A, rhs, x_0, smoother, 1, 1)\n",
    "    error = np.linalg.norm(A[0]@x_0 - rhs, ord=np.inf)\n",
    "    print(error)\n",
    "    E.append(error)\n",
    "plt.plot(np.log10(E))"
   ]
  },
  {
   "cell_type": "markdown",
   "metadata": {},
   "source": [
    "large advection"
   ]
  },
  {
   "cell_type": "code",
   "execution_count": 47,
   "metadata": {
    "collapsed": true
   },
   "outputs": [],
   "source": [
    "import sympy as sp\n",
    "\n",
    "def equation_9(L_x, L_y):\n",
    "    x, y = sp.symbols('x, y', real=True)\n",
    "    a = sp.exp(-x*y)\n",
    "    b = sp.exp(-2*x+2*y)\n",
    "    alpha = sp.cos(sp.pi*(x + y/2)) + 90\n",
    "    beta = sp.exp(2*x - 2*y)\n",
    "    q = 0\n",
    "    exact = sp.cos(sp.pi*x)*sp.cos(sp.pi*y)\n",
    "    return equations.construct_equation(a, b, alpha, beta, q, exact, x, y, L_x, L_y)"
   ]
  },
  {
   "cell_type": "code",
   "execution_count": 48,
   "metadata": {
    "collapsed": true
   },
   "outputs": [],
   "source": [
    "A, rhs = construct_multigrid_hierarchy(equation_9, 6, 3)"
   ]
  },
  {
   "cell_type": "code",
   "execution_count": 49,
   "metadata": {},
   "outputs": [
    {
     "name": "stdout",
     "output_type": "stream",
     "text": [
      "2669.85983223\n",
      "1282.96214845\n",
      "974.8856581\n",
      "922.787228105\n",
      "917.371346605\n",
      "738.697994098\n",
      "509.648821101\n",
      "345.95224309\n",
      "257.690466675\n",
      "195.682636303\n",
      "147.22782718\n",
      "111.781278106\n",
      "101.544890707\n",
      "68.9199957316\n",
      "55.0465916242\n",
      "44.4325158501\n",
      "37.4774409323\n",
      "34.1525298195\n",
      "38.3741514981\n",
      "30.8512238065\n",
      "25.7100363695\n",
      "23.9157504331\n",
      "22.306302416\n",
      "20.8287089683\n",
      "19.4459234153\n",
      "18.146479458\n",
      "16.9564365104\n",
      "15.8177510068\n",
      "14.7560766265\n",
      "13.7740806925\n",
      "12.8596143982\n",
      "12.0103722654\n",
      "11.2193883984\n",
      "10.4782708258\n",
      "9.78290506372\n",
      "9.13467310272\n",
      "8.53037220144\n",
      "7.96640597441\n",
      "7.44059579728\n",
      "6.94938173776\n",
      "6.48993250545\n",
      "6.06058837177\n",
      "5.65981122213\n",
      "5.28571202908\n",
      "4.93654179509\n",
      "4.61055738171\n",
      "4.30599896657\n",
      "4.02143882926\n",
      "3.75565744465\n",
      "3.50747115796\n",
      "3.27573958329\n",
      "3.05936616367\n",
      "2.85729038537\n",
      "2.66853466477\n",
      "2.49222738497\n",
      "2.3275651586\n",
      "2.17379144744\n",
      "2.03019131899\n",
      "1.89608550234\n",
      "1.77083604755\n",
      "1.65385393077\n",
      "1.54459574347\n",
      "1.44255548513\n",
      "1.34725921363\n",
      "1.25826144203\n",
      "1.17514378179\n",
      "1.09751573081\n",
      "1.02501425533\n",
      "0.957301489819\n",
      "0.894062109109\n",
      "0.83500111319\n",
      "0.779842250687\n",
      "0.728327176879\n",
      "0.680214815529\n",
      "0.635280387751\n",
      "0.593314188674\n",
      "0.554120363975\n",
      "0.51751583708\n",
      "0.483329468978\n",
      "0.451401390494\n",
      "0.421582359493\n",
      "0.393733075076\n",
      "0.367723477566\n",
      "0.343432083377\n",
      "0.320745391926\n",
      "0.299557371229\n",
      "0.279768993826\n",
      "0.261287792312\n",
      "0.244027425184\n",
      "0.227907259804\n",
      "0.212851983416\n",
      "0.19879124857\n",
      "0.185659350045\n",
      "0.17339492471\n",
      "0.161940667715\n",
      "0.151243063174\n",
      "0.141252130658\n",
      "0.131921189361\n",
      "0.123206640069\n",
      "0.115067763019\n",
      "0.107466529056\n",
      "0.100367422295\n",
      "0.0937372736056\n",
      "0.0875451048166\n",
      "0.0817619836091\n",
      "0.0763608884804\n",
      "0.0713165828946\n",
      "0.0666054976299\n",
      "0.0622056206581\n",
      "0.0580963941343\n",
      "0.0542586181637\n",
      "0.0506743610405\n",
      "0.0473268755391\n",
      "0.0442005207406\n",
      "0.041280689012\n",
      "0.0385537377263\n",
      "0.0360069254843\n",
      "0.0336283525401\n",
      "0.0314069052018\n",
      "0.0293322039286\n",
      "0.0273945548385\n",
      "0.025584904437\n",
      "0.0238947973001\n",
      "0.0223163365535\n",
      "0.0208421469781\n",
      "0.0194653405459\n",
      "0.0181794842412\n",
      "0.0169785700092\n",
      "0.0158569866829\n",
      "0.0148094937621\n",
      "0.0138311969309\n",
      "0.0129175251789\n",
      "0.0120642094518\n",
      "0.0112672627068\n",
      "0.0105229612742\n",
      "0.00982782747421\n",
      "0.00917861335229\n",
      "0.00857228551278\n",
      "0.00800601094052\n",
      "0.00747714376477\n",
      "0.00698321290152\n",
      "0.00652191049907\n",
      "0.00609108116187\n",
      "0.00568871187799\n",
      "0.00531292261208\n",
      "0.00496195751752\n",
      "0.00463417674548\n",
      "0.00432804876429\n",
      "0.00404214321902\n",
      "0.00377512423965\n",
      "0.00352574420397\n",
      "0.00329283790602\n",
      "0.00307531710787\n",
      "0.00287216546751\n",
      "0.00268243376838\n",
      "0.00250523551374\n",
      "0.00233974275598\n",
      "0.00218518224487\n",
      "0.00204083181025\n",
      "0.00190601698789\n",
      "0.00178010786313\n",
      "0.00166251614182\n",
      "0.00155269238117\n",
      "0.00145012344539\n",
      "0.00135433008445\n",
      "0.00126486471531\n",
      "0.00118130931772\n",
      "0.00110327348493\n",
      "0.00103039260473\n",
      "0.000962326144005\n",
      "0.000898756069617\n",
      "0.000839385355945\n",
      "0.000783936599035\n",
      "0.00073215071636\n",
      "0.000683785746631\n",
      "0.000638615705995\n",
      "0.000596429542455\n",
      "0.000557030144975\n",
      "0.00052023342262\n",
      "0.000485867446443\n",
      "0.00045377164561\n",
      "0.000423796051834\n",
      "0.000395800608729\n",
      "0.000369654510493\n",
      "0.000345235590046\n",
      "0.000322429754689\n",
      "0.000301130444157\n",
      "0.000281238138925\n",
      "0.000262659896705\n",
      "0.000245308908276\n",
      "0.000229104105145\n",
      "0.000213969772446\n",
      "0.00019983519401\n",
      "0.000186634328017\n",
      "0.00017430549515\n",
      "0.000162791090631\n",
      "0.000152037312162\n",
      "0.00014199391471\n",
      "0.000132613972667\n",
      "0.00012385365828\n",
      "0.000115672039058\n",
      "0.000108030887688\n",
      "0.000100894499113\n",
      "9.4229535577e-05\n",
      "8.80048467735e-05\n",
      "8.21913575209e-05\n",
      "7.67618967785e-05\n",
      "7.16911014678e-05\n",
      "6.69552756136e-05\n",
      "6.25322932564e-05\n",
      "5.84014877205e-05\n",
      "5.45435577095e-05\n",
      "5.09404773794e-05\n",
      "4.75754134612e-05\n",
      "4.44326384041e-05\n",
      "4.1497474669e-05\n",
      "3.87562034376e-05\n",
      "3.61960165236e-05\n",
      "3.38049516841e-05\n",
      "3.15718379369e-05\n",
      "2.94862425818e-05\n",
      "2.75384169726e-05\n",
      "2.571926332e-05\n",
      "2.40202812591e-05\n",
      "2.24335307877e-05\n",
      "2.0951599069e-05\n",
      "1.95675638253e-05\n",
      "1.82749551385e-05\n",
      "1.70677318039e-05\n",
      "1.59402599564e-05\n",
      "1.48872654364e-05\n",
      "1.39038300375e-05\n",
      "1.29853622894e-05\n",
      "1.2127564375e-05\n",
      "1.13264333805e-05\n",
      "1.05782226427e-05\n",
      "9.87943799657e-06\n",
      "9.22681583404e-06\n",
      "8.61730195822e-06\n",
      "8.04805488031e-06\n",
      "7.51641000818e-06\n",
      "7.01988544449e-06\n",
      "6.5561607272e-06\n",
      "6.12306864411e-06\n",
      "5.71858636533e-06\n",
      "5.34082293768e-06\n",
      "4.98801473725e-06\n",
      "4.65851296383e-06\n",
      "4.35077807026e-06\n",
      "4.06336987169e-06\n",
      "3.79494925085e-06\n",
      "3.54425928606e-06\n",
      "3.31013002608e-06\n",
      "3.0914663256e-06\n",
      "2.88724807262e-06\n",
      "2.69652007034e-06\n",
      "2.51839158238e-06\n",
      "2.35202973897e-06\n",
      "2.19665749057e-06\n",
      "2.0515491741e-06\n",
      "1.91602596544e-06\n",
      "1.78945633422e-06\n",
      "1.67124558459e-06\n",
      "1.56084642811e-06\n",
      "1.45773806537e-06\n",
      "1.3614426706e-06\n",
      "1.27150720175e-06\n",
      "1.18751192701e-06\n",
      "1.10906610473e-06\n",
      "1.03580514121e-06\n",
      "9.67379449435e-07\n"
     ]
    }
   ],
   "source": [
    "x_0 = np.zeros_like(rhs)\n",
    "error = 1\n",
    "tol = 1e-6\n",
    "E_1 = []\n",
    "while error > tol:\n",
    "    x_0 = multigrid_V_sweep(A, rhs, x_0, GS_smoother, 2, 2)\n",
    "    error = np.linalg.norm(A[0]@x_0 - rhs, ord=np.inf)\n",
    "    print(error)\n",
    "    E_1.append(error)"
   ]
  },
  {
   "cell_type": "code",
   "execution_count": 50,
   "metadata": {},
   "outputs": [
    {
     "name": "stdout",
     "output_type": "stream",
     "text": [
      "6511.85637428\n",
      "2103.19775945\n",
      "1233.29606057\n",
      "685.686565251\n",
      "403.680159427\n",
      "281.845947789\n",
      "177.478027582\n",
      "131.183536829\n",
      "88.2114724063\n",
      "61.0737243189\n",
      "44.1968011973\n",
      "32.0877681789\n",
      "22.6285869087\n",
      "15.1413117047\n",
      "11.4107517379\n",
      "9.09134550367\n",
      "6.75985148304\n",
      "5.93845387467\n",
      "6.05160944148\n",
      "5.54829449772\n",
      "4.66655096027\n",
      "3.87233662299\n",
      "3.26848015404\n",
      "2.68705879749\n",
      "2.15880668437\n",
      "1.66786829446\n",
      "1.22116179111\n",
      "0.87021244722\n",
      "0.595012758818\n",
      "0.414201830119\n",
      "0.312673980452\n",
      "0.259261511691\n",
      "0.248327667734\n",
      "0.23454062736\n",
      "0.209508467501\n",
      "0.17929988496\n",
      "0.152770495901\n",
      "0.129701476579\n",
      "0.105472242347\n",
      "0.0839199571841\n",
      "0.0646159343129\n",
      "0.0474425112028\n",
      "0.033489922629\n",
      "0.0230922601655\n",
      "0.0153087474154\n",
      "0.0115599052078\n",
      "0.00938295470885\n",
      "0.00900318064769\n",
      "0.00858193649713\n",
      "0.00773999179962\n",
      "0.00661494004401\n",
      "0.00560663216711\n",
      "0.00475395500743\n",
      "0.00386017705138\n",
      "0.00306918518446\n",
      "0.00236091324054\n",
      "0.00172872959352\n",
      "0.00121778142478\n",
      "0.00083382898025\n",
      "0.000565316636283\n",
      "0.00042630967431\n",
      "0.00034934685052\n",
      "0.000336257979235\n",
      "0.000320347144616\n",
      "0.00028704810854\n",
      "0.000244210098053\n",
      "0.000207923818293\n",
      "0.00017561395916\n",
      "0.000142644414398\n",
      "0.000113331263819\n",
      "8.67428217504e-05\n",
      "6.31405006146e-05\n",
      "4.46623972845e-05\n",
      "3.03580830963e-05\n",
      "2.08281108485e-05\n",
      "1.57341982572e-05\n",
      "1.33664500694e-05\n",
      "1.2794578744e-05\n",
      "1.21293059507e-05\n",
      "1.0799904949e-05\n",
      "9.13925071444e-06\n",
      "7.81699955432e-06\n",
      "6.56632355067e-06\n",
      "5.31862430542e-06\n",
      "4.21301852782e-06\n",
      "3.2086806101e-06\n",
      "2.32236139652e-06\n",
      "1.6425252749e-06\n",
      "1.10830193201e-06\n",
      "7.72360692736e-07\n"
     ]
    },
    {
     "data": {
      "text/plain": [
       "[<matplotlib.lines.Line2D at 0x61e00d630>]"
      ]
     },
     "execution_count": 50,
     "metadata": {},
     "output_type": "execute_result"
    },
    {
     "data": {
      "image/png": "[encoded data removed]",
      "text/plain": [
       "<matplotlib.figure.Figure at 0x61d040b38>"
      ]
     },
     "metadata": {},
     "output_type": "display_data"
    }
   ],
   "source": [
    "x_0 = np.zeros_like(rhs)\n",
    "error = 1\n",
    "tol = 1e-6\n",
    "E = []\n",
    "smoother = lambda A, d, x_0, N: GaBP_smoother(A, d, x_0, N, type='Sequential')\n",
    "while error > tol:\n",
    "    x_0 = multigrid_V_sweep(A, rhs, x_0, smoother, 1, 1)\n",
    "    error = np.linalg.norm(A[0]@x_0 - rhs, ord=np.inf)\n",
    "    print(error)\n",
    "    E.append(error)\n",
    "plt.plot(np.log10(E))"
   ]
  },
  {
   "cell_type": "code",
   "execution_count": 51,
   "metadata": {},
   "outputs": [
    {
     "data": {
      "image/png": "[encoded data removed]",
      "text/plain": [
       "<matplotlib.figure.Figure at 0x61e00f390>"
      ]
     },
     "metadata": {},
     "output_type": "display_data"
    }
   ],
   "source": [
    "plt.plot(np.log10(E_1), dashes=[2, 2, 2, 2], color='black', label='GS')\n",
    "plt.plot(np.log10(E), color='black', label='GaBP')\n",
    "plt.xlabel('iteration')\n",
    "plt.ylabel('$\\\\left\\|Ax - b\\\\right\\|_{\\\\infty}$')\n",
    "plt.legend()\n",
    "plt.grid()\n",
    "plt.savefig('large_advection_sweeps.eps', format='eps')"
   ]
  },
  {
   "cell_type": "markdown",
   "metadata": {},
   "source": [
    "____\n",
    "____\n",
    "____"
   ]
  },
  {
   "cell_type": "code",
   "execution_count": 52,
   "metadata": {
    "collapsed": true
   },
   "outputs": [],
   "source": [
    "def sigma_laplacian(L_x, L_y, epsilon):\n",
    "    x, y = sp.symbols('x, y', real=True)\n",
    "    a = 1\n",
    "    b = 1\n",
    "    alpha = 0\n",
    "    beta = 0\n",
    "    q = 2*sp.sin(sp.pi*y/epsilon)\n",
    "    exact = sp.cos(sp.pi*x)*sp.cos(sp.pi*y)\n",
    "    return equations.construct_equation(a, b, alpha, beta, q, exact, x, y, L_x, L_y)"
   ]
  },
  {
   "cell_type": "code",
   "execution_count": 53,
   "metadata": {
    "collapsed": true
   },
   "outputs": [],
   "source": [
    "eq = lambda L_x, L_y: sigma_laplacian(L_x, L_y, 0.01)\n",
    "A, rhs = construct_multigrid_hierarchy(eq, 6, 3)"
   ]
  },
  {
   "cell_type": "code",
   "execution_count": 54,
   "metadata": {},
   "outputs": [
    {
     "name": "stdout",
     "output_type": "stream",
     "text": [
      "270.227323811\n",
      "15.5848898697\n",
      "1.40512669915\n",
      "0.371855287301\n",
      "0.105174855119\n",
      "0.0277776573313\n",
      "0.00783319127237\n",
      "0.00218558673959\n",
      "0.000582311610239\n",
      "0.000164794362117\n",
      "4.34125565363e-05\n",
      "1.23525013898e-05\n",
      "3.25216804242e-06\n",
      "9.20443394392e-07\n"
     ]
    },
    {
     "data": {
      "text/plain": [
       "[<matplotlib.lines.Line2D at 0x61ea0f400>]"
      ]
     },
     "execution_count": 54,
     "metadata": {},
     "output_type": "execute_result"
    },
    {
     "data": {
      "image/png": "[encoded data removed]",
      "text/plain": [
       "<matplotlib.figure.Figure at 0x61ebbdac8>"
      ]
     },
     "metadata": {},
     "output_type": "display_data"
    }
   ],
   "source": [
    "x_0 = np.zeros_like(rhs)\n",
    "error = 1\n",
    "tol = 1e-6\n",
    "E = []\n",
    "while error > tol:\n",
    "    x_0 = multigrid_V_sweep(A, rhs, x_0, GS_smoother, 2, 2)\n",
    "    error = np.linalg.norm(A[0]@x_0 - rhs, ord=np.inf)\n",
    "    print(error)\n",
    "    E.append(error)\n",
    "plt.plot(np.log10(E))"
   ]
  },
  {
   "cell_type": "code",
   "execution_count": 55,
   "metadata": {},
   "outputs": [
    {
     "name": "stdout",
     "output_type": "stream",
     "text": [
      "928.493636928\n",
      "110.070892984\n",
      "22.0600825165\n",
      "3.84383912163\n",
      "0.948179021691\n",
      "0.183879106235\n",
      "0.0485104625117\n",
      "0.0100498564779\n",
      "0.00195854541027\n",
      "0.000631613899401\n",
      "0.000217773179012\n",
      "4.84426144727e-05\n",
      "1.42366509124e-05\n",
      "4.27099494971e-06\n",
      "1.1535810458e-06\n",
      "3.79559483843e-07\n"
     ]
    },
    {
     "data": {
      "text/plain": [
       "[<matplotlib.lines.Line2D at 0x61e2a8278>]"
      ]
     },
     "execution_count": 55,
     "metadata": {},
     "output_type": "execute_result"
    },
    {
     "data": {
      "image/png": "[encoded data removed]",
      "text/plain": [
       "<matplotlib.figure.Figure at 0x61da63400>"
      ]
     },
     "metadata": {},
     "output_type": "display_data"
    }
   ],
   "source": [
    "x_0 = np.zeros_like(rhs)\n",
    "error = 1\n",
    "tol = 1e-6\n",
    "E = []\n",
    "smoother = lambda A, d, x_0, N: GaBP_smoother(A, d, x_0, N, type='Sequential')\n",
    "while error > tol:\n",
    "    x_0 = multigrid_V_sweep(A, rhs, x_0, smoother, 1, 1)\n",
    "    error = np.linalg.norm(A[0]@x_0 - rhs, ord=np.inf)\n",
    "    print(error)\n",
    "    E.append(error)\n",
    "plt.plot(np.log10(E))"
   ]
  },
  {
   "cell_type": "markdown",
   "metadata": {},
   "source": [
    "large anisotropy"
   ]
  },
  {
   "cell_type": "code",
   "execution_count": 56,
   "metadata": {
    "collapsed": true
   },
   "outputs": [],
   "source": [
    "def equation_8(L_x, L_y):\n",
    "    x, y = sp.symbols('x, y', real=True)\n",
    "    a = sp.exp(-6*(x+y-1)**2)*1000 + 1\n",
    "    b = sp.exp(-6*(x-y)**2)*1000 + 1\n",
    "    alpha = 0\n",
    "    beta = 0\n",
    "    q = 0\n",
    "    exact = sp.cos(sp.pi*x)*sp.cos(sp.pi*y)\n",
    "    return equations.construct_equation(a, b, alpha, beta, q, exact, x, y, L_x, L_y)"
   ]
  },
  {
   "cell_type": "code",
   "execution_count": 57,
   "metadata": {
    "collapsed": true
   },
   "outputs": [],
   "source": [
    "A, rhs = construct_multigrid_hierarchy(equation_8, 6, 6)"
   ]
  },
  {
   "cell_type": "code",
   "execution_count": 58,
   "metadata": {},
   "outputs": [
    {
     "name": "stdout",
     "output_type": "stream",
     "text": [
      "241281.253675\n",
      "104601.471098\n",
      "72354.2631449\n",
      "53011.6680478\n",
      "39994.6852053\n",
      "30076.2211799\n",
      "23340.1895353\n",
      "18024.1887983\n",
      "13842.2534885\n",
      "10623.4899177\n",
      "8137.43111821\n",
      "6217.26898219\n",
      "4741.81302675\n",
      "3612.20966401\n",
      "2749.58979958\n",
      "2091.99449891\n",
      "1591.2708282\n",
      "1210.27496355\n",
      "920.503810476\n",
      "700.163180584\n",
      "532.629308537\n",
      "405.242861627\n",
      "308.373633962\n",
      "234.700439727\n",
      "178.659448986\n",
      "136.02299603\n",
      "103.578733591\n",
      "78.8855900183\n",
      "60.0883179247\n",
      "45.7766435925\n",
      "34.8783193176\n",
      "26.5779243359\n",
      "20.2552117185\n",
      "15.4382895353\n",
      "11.7680599155\n",
      "8.97120270049\n",
      "6.83964538909\n",
      "5.21495807925\n",
      "3.97648884644\n",
      "3.0323407418\n",
      "2.31250812448\n",
      "1.76365437786\n",
      "1.3451375911\n",
      "1.02598536815\n",
      "0.782591639174\n",
      "0.596962833399\n",
      "0.455382176762\n",
      "0.347392237833\n",
      "0.265019811777\n",
      "0.20218531703\n",
      "0.154252747627\n",
      "0.117686673155\n",
      "0.0897908090556\n",
      "0.0685087257007\n",
      "0.0522719357105\n",
      "0.0398840523267\n",
      "0.0304324804747\n",
      "0.0232210691029\n",
      "0.0177187613153\n",
      "0.0135204229446\n",
      "0.0103169773647\n",
      "0.00787262673839\n",
      "0.00600746562122\n",
      "0.00458423755481\n",
      "0.0034982181096\n",
      "0.00266950074001\n",
      "0.00203712013899\n",
      "0.00155455441563\n",
      "0.00118631040095\n",
      "0.000905301509192\n",
      "0.000690860761097\n",
      "0.00052721760585\n",
      "0.000402337493142\n",
      "0.000307039910695\n",
      "0.000234314327827\n",
      "0.000178815418622\n",
      "0.000136462593218\n",
      "0.000104141508928\n",
      "7.94758962002e-05\n",
      "6.06524699833e-05\n",
      "4.62877505925e-05\n",
      "3.53237555828e-05\n",
      "2.6957684895e-05\n",
      "2.05730029847e-05\n",
      "1.56998576131e-05\n",
      "1.19820178952e-05\n",
      "9.14520933293e-06\n",
      "6.97895302437e-06\n",
      "5.326786777e-06\n",
      "4.0648446884e-06\n",
      "3.10185714625e-06\n",
      "2.36704363488e-06\n",
      "1.80638744496e-06\n",
      "1.3793760445e-06\n",
      "1.05201615952e-06\n",
      "8.0288737081e-07\n"
     ]
    },
    {
     "data": {
      "text/plain": [
       "[<matplotlib.lines.Line2D at 0x61e3632e8>]"
      ]
     },
     "execution_count": 58,
     "metadata": {},
     "output_type": "execute_result"
    },
    {
     "data": {
      "image/png": "[encoded data removed]",
      "text/plain": [
       "<matplotlib.figure.Figure at 0x61e27f390>"
      ]
     },
     "metadata": {},
     "output_type": "display_data"
    }
   ],
   "source": [
    "x_0 = np.zeros_like(rhs)\n",
    "error = 1\n",
    "tol = 1e-6\n",
    "E = []\n",
    "while error > tol:\n",
    "    x_0 = multigrid_V_sweep(A, rhs, x_0, GS_smoother, 2, 2)\n",
    "    error = np.linalg.norm(A[0]@x_0 - rhs, ord=np.inf)\n",
    "    print(error)\n",
    "    E.append(error)\n",
    "plt.plot(np.log10(E))"
   ]
  },
  {
   "cell_type": "code",
   "execution_count": 59,
   "metadata": {},
   "outputs": [
    {
     "name": "stdout",
     "output_type": "stream",
     "text": [
      "2970948.66314\n",
      "2183979.69366\n",
      "1526808.25555\n",
      "1007139.59473\n",
      "621761.302714\n",
      "355864.630127\n",
      "186782.862735\n",
      "88780.0581617\n",
      "37650.6500791\n",
      "13991.5390925\n",
      "4450.84688777\n",
      "1174.36825172\n",
      "245.53892234\n",
      "37.9623134853\n",
      "8.31442469096\n",
      "1.89122026655\n",
      "0.545291816954\n",
      "0.214120454349\n",
      "0.0883067318546\n",
      "0.0305660624072\n",
      "0.0105899230502\n",
      "0.00458370001706\n",
      "0.00165293821919\n",
      "0.000552178935322\n",
      "0.000247772976763\n",
      "9.76676428763e-05\n",
      "3.81594163628e-05\n",
      "1.69419608937e-05\n",
      "6.93105812388e-06\n",
      "2.43211889028e-06\n",
      "9.69700522546e-07\n"
     ]
    },
    {
     "data": {
      "text/plain": [
       "[<matplotlib.lines.Line2D at 0x61e4597b8>]"
      ]
     },
     "execution_count": 59,
     "metadata": {},
     "output_type": "execute_result"
    },
    {
     "data": {
      "image/png": "[encoded data removed]",
      "text/plain": [
       "<matplotlib.figure.Figure at 0x61ea0fc18>"
      ]
     },
     "metadata": {},
     "output_type": "display_data"
    }
   ],
   "source": [
    "x_0 = np.zeros_like(rhs)\n",
    "error = 1\n",
    "tol = 1e-6\n",
    "E = []\n",
    "smoother = lambda A, d, x_0, N: GaBP_smoother(A, d, x_0, N, type='Sequential')\n",
    "while error > tol:\n",
    "    x_0 = multigrid_V_sweep(A, rhs, x_0, smoother, 1, 1)\n",
    "    error = np.linalg.norm(A[0]@x_0 - rhs, ord=np.inf)\n",
    "    print(error)\n",
    "    E.append(error)\n",
    "plt.plot(np.log10(E))"
   ]
  },
  {
   "cell_type": "code",
   "execution_count": 60,
   "metadata": {
    "collapsed": true
   },
   "outputs": [],
   "source": [
    "def equation_9(L_x, L_y):\n",
    "    x, y = sp.symbols('x, y', real=True)\n",
    "    a = (1.0001-sp.cos(30*sp.pi*(x*y)))\n",
    "    b = (1.0001+sp.cos(30*sp.pi*(x*y)))\n",
    "    alpha = 0\n",
    "    beta = 0\n",
    "    q = 0\n",
    "    exact = sp.cos(sp.pi*x)*sp.cos(sp.pi*y)\n",
    "    return equations.construct_equation(a, b, alpha, beta, q, exact, x, y, L_x, L_y)"
   ]
  },
  {
   "cell_type": "code",
   "execution_count": 61,
   "metadata": {
    "collapsed": true
   },
   "outputs": [],
   "source": [
    "A, rhs = construct_multigrid_hierarchy(equation_9, 6, 6)"
   ]
  },
  {
   "cell_type": "code",
   "execution_count": 62,
   "metadata": {
    "collapsed": true
   },
   "outputs": [],
   "source": [
    "x_0 = np.zeros_like(rhs)\n",
    "error = 1\n",
    "tol = 1e-6\n",
    "E_1 = []\n",
    "while error > tol:\n",
    "    x_0 = multigrid_V_sweep(A, rhs, x_0, GS_smoother, 3, 3)\n",
    "    error = np.linalg.norm(A[0]@x_0 - rhs, ord=np.inf)\n",
    "    E_1.append(error)"
   ]
  },
  {
   "cell_type": "code",
   "execution_count": 63,
   "metadata": {
    "collapsed": true
   },
   "outputs": [],
   "source": [
    "x_0 = np.zeros_like(rhs)\n",
    "error = 1\n",
    "tol = 1e-6\n",
    "E_2 = []\n",
    "smoother = lambda A, d, x_0, N: GaBP_smoother(A, d, x_0, N, type='Sequential')\n",
    "while error > tol:\n",
    "    x_0 = multigrid_V_sweep(A, rhs, x_0, smoother, 1, 1)\n",
    "    error = np.linalg.norm(A[0]@x_0 - rhs, ord=np.inf)\n",
    "    E_2.append(error)"
   ]
  },
  {
   "cell_type": "code",
   "execution_count": 64,
   "metadata": {},
   "outputs": [
    {
     "data": {
      "image/png": "[encoded data removed]",
      "text/plain": [
       "<matplotlib.figure.Figure at 0x61e487a20>"
      ]
     },
     "metadata": {},
     "output_type": "display_data"
    }
   ],
   "source": [
    "plt.plot(np.log10(E_1), dashes=[2, 2, 2, 2], color='black', label='GS')\n",
    "plt.plot(np.log10(E_2), color='black', label='GaBP')\n",
    "plt.xlabel('iteration')\n",
    "plt.ylabel('$\\\\left\\|Ax - b\\\\right\\|_{\\\\infty}$')\n",
    "plt.legend()\n",
    "plt.grid()\n",
    "plt.savefig('anisotropic_equation_cos_sweeps.eps', format='eps')"
   ]
  }
 ],
 "metadata": {
  "kernelspec": {
   "display_name": "Python 3",
   "language": "python",
   "name": "python3"
  },
  "language_info": {
   "codemirror_mode": {
    "name": "ipython",
    "version": 3
   },
   "file_extension": ".py",
   "mimetype": "text/x-python",
   "name": "python",
   "nbconvert_exporter": "python",
   "pygments_lexer": "ipython3",
   "version": "3.6.8"
  }
 },
 "nbformat": 4,
 "nbformat_minor": 2
}
