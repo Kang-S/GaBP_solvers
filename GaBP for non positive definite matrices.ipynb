{
 "cells": [
  {
   "cell_type": "code",
   "execution_count": 1,
   "metadata": {
    "collapsed": true
   },
   "outputs": [],
   "source": [
    "import numpy as np\n",
    "import matplotlib.pyplot as  plt\n",
    "import solvers\n",
    "\n",
    "%matplotlib inline"
   ]
  },
  {
   "cell_type": "markdown",
   "metadata": {},
   "source": [
    "This notebook shows that GaBP converges for real matrices with complex spectrum."
   ]
  },
  {
   "cell_type": "code",
   "execution_count": 2,
   "metadata": {},
   "outputs": [
    {
     "data": {
      "image/png": "[encoded data removed]",
      "text/plain": [
       "<matplotlib.figure.Figure at 0x10b010320>"
      ]
     },
     "metadata": {},
     "output_type": "display_data"
    }
   ],
   "source": [
    "N = 100\n",
    "D = np.random.randn(N, N)\n",
    "D -= np.diag(np.diag(D)) + 0.1\n",
    "rhs = 10*np.random.randn(N)\n",
    "\n",
    "DD = abs(np.eye(N) - np.diag(1/np.diag(D))@D)\n",
    "max_lambda = np.max(abs(np.linalg.eig(DD)[0]))\n",
    "DD = DD/(1.2*max_lambda)\n",
    "\n",
    "D = np.diag(np.diag(D)) @ (DD - np.eye(N))\n",
    "K = np.random.randn(N, N)\n",
    "D[np.where(K>=0)]*=-1\n",
    "\n",
    "plt.plot(np.real(np.linalg.eig(D)[0]), np.imag(np.linalg.eig(D)[0]), '.');"
   ]
  },
  {
   "cell_type": "code",
   "execution_count": 3,
   "metadata": {},
   "outputs": [
    {
     "data": {
      "text/plain": [
       "0.83333333333333348"
      ]
     },
     "execution_count": 3,
     "metadata": {},
     "output_type": "execute_result"
    }
   ],
   "source": [
    "DD = abs(np.eye(N) - np.diag(1/np.diag(D))@D)\n",
    "max_lambda = np.max(abs(np.linalg.eig(DD)[0]))\n",
    "max_lambda"
   ]
  },
  {
   "cell_type": "code",
   "execution_count": 4,
   "metadata": {},
   "outputs": [
    {
     "name": "stdout",
     "output_type": "stream",
     "text": [
      "Iteration #1, error = 2.2\n",
      "Iteration #2, error = 0.12\n",
      "Iteration #3, error = 0.006\n",
      "Iteration #4, error = 0.0003\n",
      "Iteration #5, error = 1.8e-05\n",
      "Iteration #6, error = 8.3e-07\n",
      "Iteration #7, error = 3.7e-08\n",
      "Iteration #8, error = 1.4e-09\n",
      "Iteration #9, error = 4.8e-11\n"
     ]
    }
   ],
   "source": [
    "x = solvers.GaBP(D, rhs, verbose=True)"
   ]
  },
  {
   "cell_type": "code",
   "execution_count": 5,
   "metadata": {},
   "outputs": [
    {
     "data": {
      "image/png": "[encoded data removed]",
      "text/plain": [
       "<matplotlib.figure.Figure at 0x10d25e240>"
      ]
     },
     "metadata": {},
     "output_type": "display_data"
    }
   ],
   "source": [
    "N = 500\n",
    "D = np.random.randn(N, N)# @ np.random.randn(N, N)\n",
    "D -= np.diag(np.diag(D)) - np.diag(np.random.randn(N))\n",
    "rhs = 10*np.random.randn(N)\n",
    "\n",
    "DD = abs(np.eye(N) - np.diag(1/np.diag(D))@D)\n",
    "max_lambda = np.max(abs(np.linalg.eig(DD)[0]))\n",
    "DD = DD/(1.2*max_lambda)\n",
    "\n",
    "D = np.diag(np.diag(D)) @ (DD - np.eye(N))\n",
    "K = np.random.randn(N, N) + np.eye(N)*100\n",
    "D[np.where(K>=0)]*=-1\n",
    "#D[np.where(K<0)]*=0\n",
    "\n",
    "plt.plot(np.real(np.linalg.eig(D)[0]), np.imag(np.linalg.eig(D)[0]), '.');"
   ]
  },
  {
   "cell_type": "code",
   "execution_count": 6,
   "metadata": {},
   "outputs": [
    {
     "data": {
      "text/plain": [
       "0.83333333333333437"
      ]
     },
     "execution_count": 6,
     "metadata": {},
     "output_type": "execute_result"
    }
   ],
   "source": [
    "DD = abs(np.eye(N) - np.diag(1/np.diag(D))@D)\n",
    "max_lambda = np.max(abs(np.linalg.eig(DD)[0]))\n",
    "max_lambda"
   ]
  },
  {
   "cell_type": "code",
   "execution_count": 7,
   "metadata": {},
   "outputs": [
    {
     "name": "stdout",
     "output_type": "stream",
     "text": [
      "Iteration #1, error = 3.8\n",
      "Iteration #2, error = 0.23\n",
      "Iteration #3, error = 0.068\n",
      "Iteration #4, error = 0.0025\n",
      "Iteration #5, error = 3.5e-05\n",
      "Iteration #6, error = 4e-06\n",
      "Iteration #7, error = 4e-07\n",
      "Iteration #8, error = 1.7e-08\n",
      "Iteration #9, error = 3.7e-10\n",
      "Iteration #10, error = 4.1e-11\n"
     ]
    }
   ],
   "source": [
    "x = solvers.GaBP(D, rhs, verbose=True)"
   ]
  },
  {
   "cell_type": "code",
   "execution_count": null,
   "metadata": {
    "collapsed": true
   },
   "outputs": [],
   "source": []
  }
 ],
 "metadata": {
  "kernelspec": {
   "display_name": "Python 3",
   "language": "python",
   "name": "python3"
  },
  "language_info": {
   "codemirror_mode": {
    "name": "ipython",
    "version": 3
   },
   "file_extension": ".py",
   "mimetype": "text/x-python",
   "name": "python",
   "nbconvert_exporter": "python",
   "pygments_lexer": "ipython3",
   "version": "3.6.8"
  }
 },
 "nbformat": 4,
 "nbformat_minor": 2
}
