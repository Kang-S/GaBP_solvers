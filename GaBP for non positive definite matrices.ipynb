{
 "cells": [
  {
   "cell_type": "code",
   "execution_count": 1,
   "metadata": {},
   "outputs": [],
   "source": [
    "import numpy as np\n",
    "import matplotlib.pyplot as  plt\n",
    "import solvers\n",
    "\n",
    "%matplotlib inline"
   ]
  },
  {
   "cell_type": "markdown",
   "metadata": {},
   "source": [
    "This notebook shows that GaBP converges for real matrices with complex spectrum."
   ]
  },
  {
   "cell_type": "code",
   "execution_count": 2,
   "metadata": {},
   "outputs": [
    {
     "data": {
      "image/png": "[encoded data removed]",
      "text/plain": [
       "<Figure size 432x288 with 1 Axes>"
      ]
     },
     "metadata": {
      "needs_background": "light"
     },
     "output_type": "display_data"
    }
   ],
   "source": [
    "N = 100\n",
    "D = np.random.randn(N, N)\n",
    "D -= np.diag(np.diag(D)) + 0.1\n",
    "rhs = 10*np.random.randn(N)\n",
    "\n",
    "DD = abs(np.eye(N) - np.diag(1/np.diag(D))@D)\n",
    "max_lambda = np.max(abs(np.linalg.eig(DD)[0]))\n",
    "DD = DD/(1.2*max_lambda)\n",
    "\n",
    "D = np.diag(np.diag(D)) @ (DD - np.eye(N))\n",
    "K = np.random.randn(N, N)\n",
    "D[np.where(K>=0)]*=-1\n",
    "\n",
    "plt.plot(np.real(np.linalg.eig(D)[0]), np.imag(np.linalg.eig(D)[0]), '.');"
   ]
  },
  {
   "cell_type": "code",
   "execution_count": 3,
   "metadata": {},
   "outputs": [
    {
     "data": {
      "text/plain": [
       "0.8333333333333337"
      ]
     },
     "execution_count": 3,
     "metadata": {},
     "output_type": "execute_result"
    }
   ],
   "source": [
    "DD = abs(np.eye(N) - np.diag(1/np.diag(D))@D)\n",
    "max_lambda = np.max(abs(np.linalg.eig(DD)[0]))\n",
    "max_lambda"
   ]
  },
  {
   "cell_type": "code",
   "execution_count": 4,
   "metadata": {},
   "outputs": [
    {
     "name": "stdout",
     "output_type": "stream",
     "text": [
      "Iteration #1, error = 2.0\n",
      "Iteration #2, error = 0.13\n",
      "Iteration #3, error = 0.0078\n",
      "Iteration #4, error = 0.00027\n",
      "Iteration #5, error = 8.8e-06\n",
      "Iteration #6, error = 5.6e-07\n",
      "Iteration #7, error = 1.9e-08\n",
      "Iteration #8, error = 8.2e-10\n",
      "Iteration #9, error = 4e-11\n"
     ]
    }
   ],
   "source": [
    "x = solvers.GaBP(D, rhs, verbose=True)"
   ]
  },
  {
   "cell_type": "code",
   "execution_count": 5,
   "metadata": {},
   "outputs": [
    {
     "data": {
      "image/png": "[encoded data removed]",
      "text/plain": [
       "<Figure size 432x288 with 1 Axes>"
      ]
     },
     "metadata": {
      "needs_background": "light"
     },
     "output_type": "display_data"
    }
   ],
   "source": [
    "N = 500\n",
    "D = np.random.randn(N, N)# @ np.random.randn(N, N)\n",
    "D -= np.diag(np.diag(D)) - np.diag(np.random.randn(N))\n",
    "rhs = 10*np.random.randn(N)\n",
    "\n",
    "DD = abs(np.eye(N) - np.diag(1/np.diag(D))@D)\n",
    "max_lambda = np.max(abs(np.linalg.eig(DD)[0]))\n",
    "DD = DD/(1.2*max_lambda)\n",
    "\n",
    "D = np.diag(np.diag(D)) @ (DD - np.eye(N))\n",
    "K = np.random.randn(N, N) + np.eye(N)*100\n",
    "D[np.where(K>=0)]*=-1\n",
    "#D[np.where(K<0)]*=0\n",
    "\n",
    "plt.plot(np.real(np.linalg.eig(D)[0]), np.imag(np.linalg.eig(D)[0]), '.');"
   ]
  },
  {
   "cell_type": "code",
   "execution_count": 6,
   "metadata": {},
   "outputs": [
    {
     "data": {
      "text/plain": [
       "0.8333333333333324"
      ]
     },
     "execution_count": 6,
     "metadata": {},
     "output_type": "execute_result"
    }
   ],
   "source": [
    "DD = abs(np.eye(N) - np.diag(1/np.diag(D))@D)\n",
    "max_lambda = np.max(abs(np.linalg.eig(DD)[0]))\n",
    "max_lambda"
   ]
  },
  {
   "cell_type": "code",
   "execution_count": 7,
   "metadata": {},
   "outputs": [
    {
     "name": "stdout",
     "output_type": "stream",
     "text": [
      "Iteration #1, error = 3.1\n",
      "Iteration #2, error = 1.4\n",
      "Iteration #3, error = 0.15\n",
      "Iteration #4, error = 0.0087\n",
      "Iteration #5, error = 0.00096\n",
      "Iteration #6, error = 6e-05\n",
      "Iteration #7, error = 6.7e-06\n",
      "Iteration #8, error = 6e-07\n",
      "Iteration #9, error = 4.8e-08\n",
      "Iteration #10, error = 4.9e-09\n",
      "Iteration #11, error = 3.9e-10\n",
      "Iteration #12, error = 3.5e-11\n"
     ]
    }
   ],
   "source": [
    "x = solvers.GaBP(D, rhs, verbose=True)"
   ]
  }
 ],
 "metadata": {
  "kernelspec": {
   "display_name": "Python 3",
   "language": "python",
   "name": "python3"
  },
  "language_info": {
   "codemirror_mode": {
    "name": "ipython",
    "version": 3
   },
   "file_extension": ".py",
   "mimetype": "text/x-python",
   "name": "python",
   "nbconvert_exporter": "python",
   "pygments_lexer": "ipython3",
   "version": "3.7.2"
  }
 },
 "nbformat": 4,
 "nbformat_minor": 2
}
